{
 "cells": [
  {
   "cell_type": "markdown",
   "metadata": {},
   "source": [
    "На вход Вашей функции будет передано одно предложение. Необходимо вернуть его исправленную копию так, чтобы оно всегда начиналось с большой буквы и заканчивалось точкой.\n",
    "Обратите внимание на то, что не все исправления необходимы. Если предложение уже заканчивается на точку, то добавлять еще одну не нужно, это будет ошибкой\n",
    "\n",
    "Входные аргументы: Строка (A string).\n",
    "Выходные аргументы: Строка (A string).\n",
    "\n",
    "Предусловия: В начале и конце нет пробелов, текст состоит только из пробелов, a-z A-Z , и ."
   ]
  },
  {
   "cell_type": "code",
   "execution_count": null,
   "metadata": {},
   "outputs": [],
   "source": [
    "def correct_sentence(text: str) -> str:\n",
    "    \"\"\"\n",
    "        returns a corrected sentence which starts with a capital letter\n",
    "        and ends with a dot.\n",
    "    \"\"\"\n",
    "    # your code here\n",
    "    \n",
    "    \n",
    "    # ??????????????\n",
    "    \n",
    "    \n",
    "    # end your code\n",
    "    return text\n",
    "\n",
    "\n",
    "if __name__ == '__main__':\n",
    "    print(\"Example:\")\n",
    "    print(correct_sentence(\"greetings, friends\"))\n",
    "    \n",
    "    # These \"asserts\" are used for self-checking and not for an auto-testing\n",
    "    assert correct_sentence(\"greetings, friends\") == \"Greetings, friends.\"\n",
    "    assert correct_sentence(\"Greetings, friends\") == \"Greetings, friends.\"\n",
    "    assert correct_sentence(\"      Greetings, friends\") == \"Greetings, friends.\"\n",
    "    assert correct_sentence(\"      greetings, friends       \") == \"Greetings, friends.\"\n",
    "    assert correct_sentence(\"Greetings, friends.\") == \"Greetings, friends.\"\n",
    "    assert correct_sentence(\"hi\") == \"Hi.\"\n",
    "    assert correct_sentence(\"welcome to New York\") == \"Welcome to New York.\"\n",
    "    \n",
    "    print(\"Coding complete?\")"
   ]
  },
  {
   "cell_type": "markdown",
   "metadata": {},
   "source": [
    "Вы должны написать функцию, которая представит человека по переданным параметрам.\n",
    "\n",
    "Входные данные: Два аргумента строка(str) и положительное число(int)\n",
    "\n",
    "Output: Строка(str)."
   ]
  },
  {
   "cell_type": "code",
   "execution_count": null,
   "metadata": {},
   "outputs": [],
   "source": [
    "def say_hi(name: str, age: int) -> str:\n",
    "    \"\"\"\n",
    "        Hi!\n",
    "    \"\"\"\n",
    "    # your code here\n",
    "    return \"Hi.\"\n",
    "    # end your code\n",
    "\n",
    "if __name__ == '__main__':\n",
    "    #These \"asserts\" using only for self-checking and not necessary for auto-testing\n",
    "    assert say_hi(\"Alex\", 32) == \"Hi. My name is Alex and I'm 32 years old\", \"First\"\n",
    "    assert say_hi(\"Frank\", 68) == \"Hi. My name is Frank and I'm 68 years old\", \"Second\"\n",
    "    print('Done.')"
   ]
  },
  {
   "cell_type": "markdown",
   "metadata": {},
   "source": [
    "Даны 2 строки. Необходимо найти индекс второго вхождения второй строки в первую.\n",
    "\n",
    "Разберем самый первый пример, когда необходимо найти второе вхождение \"s\" в слове \"sims\". Если бы нам надо было найти ее первое вхождение, то тут все просто: с помощью функции index или find мы можем узнать, что \"s\" – это самый первый символ в слове \"sims\", а значит индекс первого вхождения равен 0. Но нам необходимо найти вторую \"s\", а она 4-ая по счету. Значит индекс второго вхождения (и ответ на вопрос) равен 3.\n",
    "\n",
    "Input: Две строки (String).\n",
    "\n",
    "Output: Int or None"
   ]
  },
  {
   "cell_type": "code",
   "execution_count": 2,
   "metadata": {
    "collapsed": true
   },
   "outputs": [
    {
     "name": "stdout",
     "output_type": "stream",
     "text": [
      "Example:\n",
      "0\n"
     ]
    },
    {
     "ename": "AssertionError",
     "evalue": "First",
     "output_type": "error",
     "traceback": [
      "\u001b[1;31m---------------------------------------------------------------------------\u001b[0m",
      "\u001b[1;31mAssertionError\u001b[0m                            Traceback (most recent call last)",
      "\u001b[1;32m<ipython-input-2-12b9c2114e33>\u001b[0m in \u001b[0;36m<module>\u001b[1;34m()\u001b[0m\n\u001b[0;32m     13\u001b[0m \u001b[1;33m\u001b[0m\u001b[0m\n\u001b[0;32m     14\u001b[0m     \u001b[1;31m# These \"asserts\" are used for self-checking and not for an auto-testing\u001b[0m\u001b[1;33m\u001b[0m\u001b[1;33m\u001b[0m\u001b[0m\n\u001b[1;32m---> 15\u001b[1;33m     \u001b[1;32massert\u001b[0m \u001b[0msecond_index\u001b[0m\u001b[1;33m(\u001b[0m\u001b[1;34m\"sims\"\u001b[0m\u001b[1;33m,\u001b[0m \u001b[1;34m\"s\"\u001b[0m\u001b[1;33m)\u001b[0m \u001b[1;33m==\u001b[0m \u001b[1;36m3\u001b[0m\u001b[1;33m,\u001b[0m \u001b[1;34m\"First\"\u001b[0m\u001b[1;33m\u001b[0m\u001b[0m\n\u001b[0m\u001b[0;32m     16\u001b[0m     \u001b[1;32massert\u001b[0m \u001b[0msecond_index\u001b[0m\u001b[1;33m(\u001b[0m\u001b[1;34m\"find the river\"\u001b[0m\u001b[1;33m,\u001b[0m \u001b[1;34m\"e\"\u001b[0m\u001b[1;33m)\u001b[0m \u001b[1;33m==\u001b[0m \u001b[1;36m12\u001b[0m\u001b[1;33m,\u001b[0m \u001b[1;34m\"Second\"\u001b[0m\u001b[1;33m\u001b[0m\u001b[0m\n\u001b[0;32m     17\u001b[0m     \u001b[1;32massert\u001b[0m \u001b[0msecond_index\u001b[0m\u001b[1;33m(\u001b[0m\u001b[1;34m\"hi\"\u001b[0m\u001b[1;33m,\u001b[0m \u001b[1;34m\" \"\u001b[0m\u001b[1;33m)\u001b[0m \u001b[1;32mis\u001b[0m \u001b[1;32mNone\u001b[0m\u001b[1;33m,\u001b[0m \u001b[1;34m\"Third\"\u001b[0m\u001b[1;33m\u001b[0m\u001b[0m\n",
      "\u001b[1;31mAssertionError\u001b[0m: First"
     ]
    }
   ],
   "source": [
    "def second_index(text: str, symbol: str) -> [int, None]:\n",
    "    \"\"\"\n",
    "        returns the second index of a symbol in a given text\n",
    "    \"\"\"\n",
    "    # your code here\n",
    "    return 0\n",
    "    # end your code\n",
    "\n",
    "\n",
    "if __name__ == '__main__':\n",
    "    print('Example:')\n",
    "    print(second_index(\"sims\", \"s\"))\n",
    "\n",
    "    # These \"asserts\" are used for self-checking and not for an auto-testing\n",
    "    assert second_index(\"sims\", \"s\") == 3, \"First\"\n",
    "    assert second_index(\"find the river\", \"e\") == 12, \"Second\"\n",
    "    assert second_index(\"hi\", \" \") is None, \"Third\"\n",
    "    assert second_index(\"hi mayor\", \" \") is None, \"Fourth\"\n",
    "    assert second_index(\"hi mr Mayor\", \" \") == 5, \"Fifth\"\n",
    "    print('You are awesome! All tests are done! Go Check it!')"
   ]
  },
  {
   "cell_type": "markdown",
   "metadata": {},
   "source": [
    "Разработать модуль для проверки паролей на безопасность. Пароль считается достаточно стойким, если его длина больше или равна 10 символам, он содержит, как минимум одну цифру, одну букву в верхнем и одну в нижнем регистре. Пароль может содержать только латинские буквы и/или цифры.\n",
    "\n",
    "Вх. данные: Пароль как строка.\n",
    "\n",
    "Вых. данные: Безопасность пароля в виде булевого значения (bool) или любого типа данных, который может быть сконвертирован и представлен как булево значение (True или False)\n",
    "\n",
    "Предусловия:\n",
    "re.match(\"[a-zA-Z0-9]+\", password)\n",
    "0 < len(password) ≤ 64"
   ]
  },
  {
   "cell_type": "code",
   "execution_count": null,
   "metadata": {},
   "outputs": [],
   "source": [
    "def check(data: str) -> bool:\n",
    "    # your code here\n",
    "    \n",
    "    \n",
    "    # end your code\n",
    "    return True or False\n",
    "\n",
    "if __name__ == '__main__':\n",
    "    #These \"asserts\" using only for self-checking and not necessary for auto-testing\n",
    "    assert check('A1213pokl') == False, \"1st example\"\n",
    "    assert check('bAse730onE4') == True, \"2nd example\"\n",
    "    assert check('asasasasasasasaas') == False, \"3rd example\"\n",
    "    assert check('QWERTYqwerty') == False, \"4th example\"\n",
    "    assert check('123456123456') == False, \"5th example\"\n",
    "    assert check('QwErTy911poqqqq') == True, \"6th example\"\n",
    "    print(\"Coding complete?\")"
   ]
  }
 ],
 "metadata": {
  "kernelspec": {
   "display_name": "Python 3",
   "language": "python",
   "name": "python3"
  },
  "language_info": {
   "codemirror_mode": {
    "name": "ipython",
    "version": 3
   },
   "file_extension": ".py",
   "mimetype": "text/x-python",
   "name": "python",
   "nbconvert_exporter": "python",
   "pygments_lexer": "ipython3",
   "version": "3.7.0"
  }
 },
 "nbformat": 4,
 "nbformat_minor": 2
}

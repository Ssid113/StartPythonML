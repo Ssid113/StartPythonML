{
 "cells": [
  {
   "cell_type": "markdown",
   "metadata": {},
   "source": [
    "# Регулярные выражения\n",
    "\n",
    "Метод `find` ищет подстроку в строке."
   ]
  },
  {
   "cell_type": "code",
   "execution_count": 1,
   "metadata": {},
   "outputs": [
    {
     "data": {
      "text/plain": [
       "1"
      ]
     },
     "execution_count": 1,
     "metadata": {},
     "output_type": "execute_result"
    }
   ],
   "source": [
    "s='абракадабра'\n",
    "s.find('бра')"
   ]
  },
  {
   "cell_type": "markdown",
   "metadata": {},
   "source": [
    "Если подстрока не найдена, он возвращает `-1`."
   ]
  },
  {
   "cell_type": "code",
   "execution_count": 2,
   "metadata": {},
   "outputs": [
    {
     "data": {
      "text/plain": [
       "-1"
      ]
     },
     "execution_count": 2,
     "metadata": {},
     "output_type": "execute_result"
    }
   ],
   "source": [
    "s.find('бро')"
   ]
  },
  {
   "cell_type": "markdown",
   "metadata": {},
   "source": [
    "Можно задать дополнительный параметр - начиная с какого места искать."
   ]
  },
  {
   "cell_type": "code",
   "execution_count": 3,
   "metadata": {},
   "outputs": [
    {
     "data": {
      "text/plain": [
       "8"
      ]
     },
     "execution_count": 3,
     "metadata": {},
     "output_type": "execute_result"
    }
   ],
   "source": [
    "s.find('бра',3)"
   ]
  },
  {
   "cell_type": "markdown",
   "metadata": {},
   "source": [
    "Метод `replace` возвращает копию строки, в которой старая подстрока заменена на новую."
   ]
  },
  {
   "cell_type": "code",
   "execution_count": 4,
   "metadata": {},
   "outputs": [
    {
     "data": {
      "text/plain": [
       "'аБРАкадаБРА'"
      ]
     },
     "execution_count": 4,
     "metadata": {},
     "output_type": "execute_result"
    }
   ],
   "source": [
    "s.replace('бра','БРА')"
   ]
  },
  {
   "cell_type": "markdown",
   "metadata": {},
   "source": [
    "Если задать дополнительный целый параметр `n`, то будут заменены только первые `n` вхождений старой подстроки."
   ]
  },
  {
   "cell_type": "code",
   "execution_count": 5,
   "metadata": {},
   "outputs": [
    {
     "data": {
      "text/plain": [
       "'аБРАкадабра'"
      ]
     },
     "execution_count": 5,
     "metadata": {},
     "output_type": "execute_result"
    }
   ],
   "source": [
    "s.replace('бра','БРА',1)"
   ]
  },
  {
   "cell_type": "markdown",
   "metadata": {},
   "source": [
    "Но эти методы работают только с фиксированными подстроками. Для более гибкой обработки текстов можно использовать модуль `re`, который позволяет искать и заменять подстроки, соответствующий некоторым образцам - регулярным выражениям."
   ]
  },
  {
   "cell_type": "code",
   "execution_count": 6,
   "metadata": {},
   "outputs": [],
   "source": [
    "from re import search,sub,compile"
   ]
  },
  {
   "cell_type": "markdown",
   "metadata": {},
   "source": [
    "Функция `search(r,s)` ищет подстроку, соответствующую регулярному выражению `r`, в строке `s`. Она возвращает объект сопоставления или `None`, если такая подстрока не найдена. Из объекта сопоставления можно добыть полезную информацию о том, как регулярное выражение сопоставлено подстроке."
   ]
  },
  {
   "cell_type": "code",
   "execution_count": 7,
   "metadata": {},
   "outputs": [
    {
     "name": "stdout",
     "output_type": "stream",
     "text": [
      "3 6 xay\n"
     ]
    }
   ],
   "source": [
    "s='xy xay xaby xby'\n",
    "m=search('x.y',s)\n",
    "if m:\n",
    "    print(m.start(),m.end(),m.group())\n",
    "else:\n",
    "    print('Не найдено')"
   ]
  },
  {
   "cell_type": "markdown",
   "metadata": {},
   "source": [
    "Самая часто используемая функция того модуля - это `sub`. Она возвращает копию исходной строки, в которой все подстроки, соответствующие образцу, заменены на заданную строку - замену."
   ]
  },
  {
   "cell_type": "code",
   "execution_count": 8,
   "metadata": {},
   "outputs": [
    {
     "data": {
      "text/plain": [
       "'xy XXX xaby XXX'"
      ]
     },
     "execution_count": 8,
     "metadata": {},
     "output_type": "execute_result"
    }
   ],
   "source": [
    "sub('x.y','XXX',s)"
   ]
  },
  {
   "cell_type": "markdown",
   "metadata": {},
   "source": [
    "Если мы хотим заменить только первые `n` подстрок, соответствующих образцу, добавляем параметр `n`."
   ]
  },
  {
   "cell_type": "code",
   "execution_count": 9,
   "metadata": {},
   "outputs": [
    {
     "data": {
      "text/plain": [
       "'xy XXX xaby xby'"
      ]
     },
     "execution_count": 9,
     "metadata": {},
     "output_type": "execute_result"
    }
   ],
   "source": [
    "sub('x.y','XXX',s,1)"
   ]
  },
  {
   "cell_type": "markdown",
   "metadata": {},
   "source": [
    "Если мы хотим использовать одно и то же регулярное выражение несколько раз, можно скомпилировать его в некий объект, и вместо функций модуля `re` вызывать методы этого объекта. Это повысит эффективность."
   ]
  },
  {
   "cell_type": "code",
   "execution_count": 10,
   "metadata": {},
   "outputs": [
    {
     "name": "stdout",
     "output_type": "stream",
     "text": [
      "xay\n"
     ]
    }
   ],
   "source": [
    "xy=compile('x.y')\n",
    "m=xy.search(s)\n",
    "print(m.group())"
   ]
  },
  {
   "cell_type": "code",
   "execution_count": 11,
   "metadata": {},
   "outputs": [
    {
     "data": {
      "text/plain": [
       "'xy XXX xaby XXX'"
      ]
     },
     "execution_count": 11,
     "metadata": {},
     "output_type": "execute_result"
    }
   ],
   "source": [
    "xy.sub('XXX',s)"
   ]
  },
  {
   "cell_type": "markdown",
   "metadata": {},
   "source": [
    "В регулярном выражении все символы, кроме специальных, обозначают сами себя. Специальные символы - это `.`, `^`, `$`, `*`, `+`, `?`, `\\`, `|`, `{`, `}`, `[`, `]`, `(`, `)`. Если требуется включить в регулярное выражение один из этих символов буквально, как обычный, перед ним нужно поставить `\\`. Вообще, в регулярных выражениях часто приходится использовать `\\`. А чтобы включить этот символ в строку на питоне, его надо писать как `\\\\`. Например, регулярное выражение, которое сопоставляется с символом `\\` - это `\\\\`; в виде питонской строки его приходится писать как `'\\\\\\\\'`. Неудобно. Поэтому для записи регулярных выражений часто используют сырые строки (raw, в смысле неприготовленные - не варёные и не жареные). Они пишутся как `r'строка'` или `r\"строка\"`, в них `\\` является вполне обычным символом. Так что это же регулярное выражение можно записать в виде сырой строки `r'\\\\'`."
   ]
  },
  {
   "cell_type": "code",
   "execution_count": 12,
   "metadata": {},
   "outputs": [
    {
     "data": {
      "text/plain": [
       "'\\\\n'"
      ]
     },
     "execution_count": 12,
     "metadata": {},
     "output_type": "execute_result"
    }
   ],
   "source": [
    "r'\\n'"
   ]
  },
  {
   "cell_type": "markdown",
   "metadata": {},
   "source": [
    "Специальный символ `.` в регулярном выражении сопоставляется с любым (одним!) символом в строке (кроме символа `'\\n'`). Мы это уже видели. Конструкция `[abc]` сопоставляется с `a`, `b` или `c`. В ней можно использовать диапазоны: `[0-9]` - это любая цифра, а `[a-zA-Z]` - любая латинская буква. Но тут надо быть осторожным: это диапазоны в юникоднм порядке. Латинские буквы в нём действительно идут подряд, так что для обычных латинских букв (без каких-нибудь умляютов) это правильно. Но вот `[а-яА-Я]` не включает все расские буквы - `ё` и `Ё` находятся вне этих диапазонов. Так что для проверки на русскую букву нужно писать `[а-яёА-ЯЁ]`. Большинство специальных символов теряют свою специальность между `[` и `]` и рассматриваются как обычные. Если первым символом после `[` идёт `^`, то это значит любой символ, кроме тех, что дальше перечислены.\n",
    "\n",
    "Юникод умеет много гитик, поэтому надёжнее использовать заранее определённые классы символов. Так, `\\d` означает любую цифру (в юникоде, в добавок к `[0-9]`, их есть ещё много); `\\w` означает любой символ, который может присутствовать в слове - букву, цифру или `_`; `\\s` означает любой \"пробел\" (пустое пространство, включая табуляцию, `'\\n'` и т.д.). Заглавные буквы означают дополнения к этим множествам: `\\D` - любая не-цифра; `\\W` - не встречается в словах (т.е. не буква, не цифра и не `_`); `\\S` - любой не-пробел.\n",
    "\n",
    "После подвыражения в регулярном выражении можно поставить `*`, это означает любое число повторений (от 0 до $\\infty$) этого подвыражения. Например, `.*` сопоставляется с абсолютно чем угодно. Если поставить `+`, то это любое ненулевое число повторений (от 1 до $\\infty$). А если поставить `?`, то это 0 или 1 вхождение, т.е. это предыдущее подвыражение может присутствовать либо отсутствовать. Можно задать возможные числа повторений более явно: `а{5}` означает 5 букв `а`, `а{2,4}` - от 2 до 4 букв `а`, `а{6,}` - от 6 до $\\infty$ букв `а`. Но это используется редко."
   ]
  },
  {
   "cell_type": "code",
   "execution_count": 13,
   "metadata": {},
   "outputs": [
    {
     "name": "stdout",
     "output_type": "stream",
     "text": [
      "123\n"
     ]
    }
   ],
   "source": [
    "m=search(r'\\d+','abc123xyz')\n",
    "print(m.group())"
   ]
  },
  {
   "cell_type": "markdown",
   "metadata": {},
   "source": [
    "`^` означает начало строки, а `$` - конец."
   ]
  },
  {
   "cell_type": "code",
   "execution_count": 14,
   "metadata": {},
   "outputs": [
    {
     "name": "stdout",
     "output_type": "stream",
     "text": [
      "нашли\n",
      "не нашли\n"
     ]
    }
   ],
   "source": [
    "for s in ['0ab','a0b']:\n",
    "    if search(r'^0',s):\n",
    "        print('нашли')\n",
    "    else:\n",
    "        print('не нашли')"
   ]
  },
  {
   "cell_type": "markdown",
   "metadata": {},
   "source": [
    "`x|y` означает `x` или `y`. Подвыражения можно заключать в скобки."
   ]
  },
  {
   "cell_type": "code",
   "execution_count": 15,
   "metadata": {},
   "outputs": [
    {
     "name": "stdout",
     "output_type": "stream",
     "text": [
      "c123d\n"
     ]
    }
   ],
   "source": [
    "m=search(r'(a\\d+b)|(c\\d+d)','xxxc123dyyy')\n",
    "print(m.group())"
   ]
  },
  {
   "cell_type": "code",
   "execution_count": 16,
   "metadata": {},
   "outputs": [
    {
     "name": "stdout",
     "output_type": "stream",
     "text": [
      "0ababab1\n"
     ]
    }
   ],
   "source": [
    "m=search(r'0(ab)*1','x0ababab1y')\n",
    "print(m.group())"
   ]
  },
  {
   "cell_type": "markdown",
   "metadata": {},
   "source": [
    "Но главная польза от скобок не в этом. Каждая скобка создаёт *группу*. При поиске регулярного выражения в строке куски строки, сопоставленные каждому подвыражению в скобках, запоминаются, и их можно извлечь и использовать. Метод `group` объекта сопоставления, вызванный без параметров, возвращает подстроку, сопоставленную всему регулярному выражению в целом; если же его вызвать с целым параметром `n`, то он возвращает `n`-ую группу."
   ]
  },
  {
   "cell_type": "code",
   "execution_count": 17,
   "metadata": {},
   "outputs": [
    {
     "name": "stdout",
     "output_type": "stream",
     "text": [
      "1: abc, 2: 123, 3: xyz\n"
     ]
    }
   ],
   "source": [
    "m=search(r'(^[a-z]*)(\\d*)([a-z]*$)','abc123xyz')\n",
    "print(f'1: {m.group(1)}, 2: {m.group(2)}, 3: {m.group(3)}')"
   ]
  },
  {
   "cell_type": "markdown",
   "metadata": {},
   "source": [
    "Ещё более это полезно в вызовах `sub`. Почти всегда строка-замена должна содержать в себе части исходной строки, найденные при сопоставлении с регулярным выражением. Для этого в строке-замене можно использовать обозначения `\\1`, `\\2` и т.д. - они означают 1-ю, 2-ю и т.д. группы."
   ]
  },
  {
   "cell_type": "code",
   "execution_count": 18,
   "metadata": {},
   "outputs": [
    {
     "data": {
      "text/plain": [
       "'[abc][123][xyz]'"
      ]
     },
     "execution_count": 18,
     "metadata": {},
     "output_type": "execute_result"
    }
   ],
   "source": [
    "sub(r'(^[a-z]*)(\\d*)([a-z]*$)',r'[\\1][\\2][\\3]','abc123xyz')"
   ]
  }
 ],
 "metadata": {
  "kernelspec": {
   "display_name": "Python 3",
   "language": "python3",
   "name": "python3"
  },
  "language_info": {
   "codemirror_mode": {
    "name": "ipython",
    "version": 3
   },
   "file_extension": ".py",
   "mimetype": "text/x-python",
   "name": "python",
   "nbconvert_exporter": "python",
   "pygments_lexer": "ipython3",
   "version": "3.6.6"
  }
 },
 "nbformat": 4,
 "nbformat_minor": 2
}

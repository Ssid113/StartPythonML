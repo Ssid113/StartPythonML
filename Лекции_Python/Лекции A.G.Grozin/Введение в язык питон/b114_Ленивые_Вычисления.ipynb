{
 "cells": [
  {
   "cell_type": "markdown",
   "metadata": {},
   "source": [
    "# Ленивые вычисления\n",
    "\n",
    "В ленивых вычислениях каждый элемент данных вычисляется тогда, когда он понадобился, а не заранее. Эта техника позволяет работать с потенциально бесконечными структурами данных. В каждый момент времени имеется только конечное число их элементов, которые уже были зачем-то нужны. Если потом понадобятся ещё какие-нибудь элементы этой структуры данных, то они тоже будут вычислены и запомнены.\n",
    "\n",
    "Например, ряд Тэйлора - это бесконечный список коэффициентов. В некоторых системах компьютерной алгебры (Axiom и его форки, Reduce) реализованы ленивые ряды. Ленивый ряд - это список нескольких первых коэффициентов плюс алгоритм, позволяющий вычислять дальнейшие коффициенты, если они понадобятся. Допустим, пользователь произвёл какое-то вычисление с рядами и получил несколько первых членов ряда-результата. Если он захочет увидеть несколько следующих членов, он может просто запросить их у этого ленивого ряда-результата - нет необходимости повторять всё вычисление. В большинстве систем компьютерной алгебры (Mathematica, Maple и т.д.) ряд Тэйлора - это конечный список коэффициентов плюс остаточный член $O(x^n)$, показывающий, с какой точностью этот ряд известен. Если пользователь получил ряд-результат, но не доволен его точностью, ему придётся разложить все исходные функции до большего числа членов и затем повторить вычисление. Причём в сложных случаях трудно догадаться, какие исходные функции нужно разложить докуда для получения результата с желаемой точностью.\n",
    "\n",
    "Мы сейчас напишем программу на питоне для работы с ленивыми рядами Тэйлора с рациональными коэффициентами. Класс `Series` - корень иерархии классов для таких рядов. Каждый объект `s` этого класса (или его потомков) содержит список уже вычисленных коффициентов `s.l`; `s[n]` - это коффициент при $x^n$ (рациональное число, то есть объект класса `Fraction`). Можно пользоваться всеми прелестями питонской индексации, например, `s[n:m]`, только не индексацией с конца (типа `s[-1]`), что естественно. Для этого реализован метод `__getitem__`; в случае `s[n:m]` он вызывается с аргументом `slice(n,m)`. Если $n$-ый элемент ряда ещё не был вычислен, нужно несколько раз вызвать метод `s.step()`, который вычисляет следующие коффициенты и добавляет их в конец списка. Мы не хотим, чтобы пользователь мог произвольно менять коффициенты ряда, потому не реализуем `__setitem__` (который вызывался бы в случаях `s[n]=x` или `s[n,m]=[x,y,z]`)."
   ]
  },
  {
   "cell_type": "code",
   "execution_count": 1,
   "metadata": {
    "collapsed": true
   },
   "outputs": [],
   "source": [
    "from fractions import Fraction"
   ]
  },
  {
   "cell_type": "code",
   "execution_count": 2,
   "metadata": {
    "collapsed": true
   },
   "outputs": [],
   "source": [
    "class Series:\n",
    "    \"Базовый класс для ленивых рядов Тэйлора\"\n",
    "\n",
    "    def __init__(self,l):\n",
    "        self.l=[Fraction(x) for x in l]\n",
    "\n",
    "    def __str__(self):\n",
    "        s=''\n",
    "        cont=False\n",
    "        for n,x in enumerate(self.l):\n",
    "            if x!=0:\n",
    "                s+=('+' if cont else '') if x>0 else '-'\n",
    "                xa=abs(x)\n",
    "                if xa!=1:\n",
    "                    s+=str(abs(x))\n",
    "                    s+='*x' if n>=1 else ''\n",
    "                else:\n",
    "                    s+='x' if n>=1 else '1'\n",
    "                s+=f'^{n}' if n>1 else ''\n",
    "                cont=True\n",
    "        n=len(self.l)\n",
    "        s+=('+' if cont else '')+'O('+('x'+(f'^{n}' if n>1 else '') if n>0 else '1')+')'\n",
    "        return s\n",
    "\n",
    "    def __repr__(self):\n",
    "        return f'Series({self.l})'\n",
    "\n",
    "    def step(self):\n",
    "        self.l.append(0)\n",
    "\n",
    "    def __getitem__(self,n):\n",
    "        if isinstance(n,slice):\n",
    "            m=max(n.start,n.stop)\n",
    "        else:\n",
    "            m=n\n",
    "        while len(self.l)<=m:\n",
    "            self.step()\n",
    "        return self.l[n]\n",
    "\n",
    "    def __add__(self,x):\n",
    "        if isinstance(x,Series):\n",
    "            return Sum(self,x)\n",
    "        else:\n",
    "            return self+Series([x])\n",
    "\n",
    "    def __radd__(self,x):\n",
    "        if isinstance(x,Series):\n",
    "            return Sum(self,x)\n",
    "        else:\n",
    "            return self+Series([x])\n",
    "\n",
    "    def __sub__(self,x):\n",
    "        return self+(-x)\n",
    "\n",
    "    def __rsub__(self,x):\n",
    "        return (-self)+x\n",
    "\n",
    "    def __mul__(self,x):\n",
    "        if isinstance(x,Series):\n",
    "            return Product(self,x)\n",
    "        else:\n",
    "            return Product1(self,x)\n",
    "\n",
    "    def __rmul__(self,x):\n",
    "        if isinstance(x,Series):\n",
    "            return Product(self,x)\n",
    "        else:\n",
    "            return Product1(self,x)\n",
    "\n",
    "    def __neg__(self):\n",
    "        return Product1(self,-1)\n",
    "\n",
    "    def __call__(self,x):\n",
    "        return Apply(self,x)\n",
    "\n",
    "    def __pow__(self,n):\n",
    "        if n==0:\n",
    "            return Series([1])\n",
    "        elif n<0:\n",
    "            assert self[0]!=0\n",
    "        if isinstance(n,Fraction):\n",
    "            if n.denominator==1:\n",
    "                n=n.numerator\n",
    "        a,m=self.norm()\n",
    "        m*=n\n",
    "        if isinstance(m,Fraction):\n",
    "            assert m.denominator==1\n",
    "            m=m.numerator\n",
    "        return Shift(Pow(a,n),m)\n",
    "\n",
    "    def __truediv__(self,x):\n",
    "        if isinstance(x,Series):\n",
    "            a,n=self.norm()\n",
    "            b,m=x.norm()\n",
    "            assert n>=m\n",
    "            return Div(a,b).shift(n-m)\n",
    "        else:\n",
    "            return self*(Fraction(1)/x)\n",
    "\n",
    "    def __rtruediv__(self,x):\n",
    "        return x*self**(-1)\n",
    "\n",
    "    def inv(self):\n",
    "        return Inv(self)\n",
    "\n",
    "    def scale(self,c):\n",
    "        return Apply1(self,c)\n",
    "\n",
    "    def shift(self,n):\n",
    "        if n==0:\n",
    "            return self\n",
    "        else:\n",
    "            return Shift(self,n)\n",
    "\n",
    "    def norm(self,max=100):\n",
    "        m=0\n",
    "        while self[m]==0:\n",
    "            m+=1\n",
    "            assert m<=max\n",
    "        return (self.shift(-m),m)\n",
    "\n",
    "    def diff(self):\n",
    "        return Diff(self)\n",
    "\n",
    "    def int(self):\n",
    "        return Int(self)"
   ]
  },
  {
   "cell_type": "markdown",
   "metadata": {},
   "source": [
    "Класс `Series` можно использовать сам по себе. Он означает полином, т.е. конечный ряд. Его методу `__init__` передаётся список коффициентов. Метод `step` просто добавляет в конец списка нули."
   ]
  },
  {
   "cell_type": "code",
   "execution_count": 3,
   "metadata": {},
   "outputs": [
    {
     "name": "stdout",
     "output_type": "stream",
     "text": [
      "1+2*x+O(x^2)\n",
      "0\n",
      "1+2*x+O(x^11)\n"
     ]
    }
   ],
   "source": [
    "s=Series([1,2])\n",
    "print(s)\n",
    "print(s[10])\n",
    "print(s)"
   ]
  },
  {
   "cell_type": "markdown",
   "metadata": {},
   "source": [
    "Классы для других рядов наследуют от `Series` и переопределяют метод `step` (а также ряд других методов). Вот ряд для экспоненты."
   ]
  },
  {
   "cell_type": "code",
   "execution_count": 4,
   "metadata": {
    "collapsed": true
   },
   "outputs": [],
   "source": [
    "class Exp(Series):\n",
    "    \"Ряд для exp(x)\"\n",
    "\n",
    "    def __init__(self):\n",
    "        self.l=[Fraction(1)]\n",
    "\n",
    "    def __repr__(self):\n",
    "        return 'Exp()'\n",
    "\n",
    "    def step(self):\n",
    "        n=len(self.l)\n",
    "        self.l.append(self.l[-1]/n)"
   ]
  },
  {
   "cell_type": "code",
   "execution_count": 5,
   "metadata": {},
   "outputs": [
    {
     "name": "stdout",
     "output_type": "stream",
     "text": [
      "1+O(x)\n",
      "1/3628800\n",
      "1+x+1/2*x^2+1/6*x^3+1/24*x^4+1/120*x^5+1/720*x^6+1/5040*x^7+1/40320*x^8+1/362880*x^9+1/3628800*x^10+O(x^11)\n"
     ]
    }
   ],
   "source": [
    "e=Exp()\n",
    "print(e)\n",
    "print(e[10])\n",
    "print(e)"
   ]
  },
  {
   "cell_type": "markdown",
   "metadata": {},
   "source": [
    "Ряды для косинуса и синуса устроены аналогично."
   ]
  },
  {
   "cell_type": "code",
   "execution_count": 6,
   "metadata": {
    "collapsed": true
   },
   "outputs": [],
   "source": [
    "class Cos(Series):\n",
    "    \"Ряд для cos(x)\"\n",
    "\n",
    "    def __init__(self):\n",
    "        self.l=[Fraction(1)]\n",
    "\n",
    "    def __repr__(self):\n",
    "        return 'Cos()'\n",
    "\n",
    "    def step(self):\n",
    "        n=len(self.l)+1\n",
    "        self.l+=[0,-self.l[-1]/((n-1)*n)]"
   ]
  },
  {
   "cell_type": "code",
   "execution_count": 7,
   "metadata": {
    "collapsed": true
   },
   "outputs": [],
   "source": [
    "class Sin(Series):\n",
    "    \"Ряд для sin(x)\"\n",
    "\n",
    "    def __init__(self):\n",
    "        self.l=[0,Fraction(1)]\n",
    "\n",
    "    def __repr__(self):\n",
    "        return 'Sin()'\n",
    "\n",
    "    def step(self):\n",
    "        n=len(self.l)+1\n",
    "        self.l+=[0,-self.l[-1]/((n-1)*n)]"
   ]
  },
  {
   "cell_type": "markdown",
   "metadata": {},
   "source": [
    "Вот ещё парочка простых рядов."
   ]
  },
  {
   "cell_type": "code",
   "execution_count": 8,
   "metadata": {
    "collapsed": true
   },
   "outputs": [],
   "source": [
    "class Log(Series):\n",
    "    \"Ряд для log(1+x)\"\n",
    "\n",
    "    def __init__(self):\n",
    "        self.l=[0,Fraction(1)]\n",
    "        self.sign=1\n",
    "\n",
    "    def step(self):\n",
    "        n=len(self.l)\n",
    "        self.sign=-self.sign\n",
    "        self.l.append(Fraction(self.sign,n))"
   ]
  },
  {
   "cell_type": "code",
   "execution_count": 9,
   "metadata": {
    "collapsed": true
   },
   "outputs": [],
   "source": [
    "class Binom(Series):\n",
    "    \"Ряд для (1+x)^n\"\n",
    "\n",
    "    def __init__(self,n):\n",
    "        self.l=[Fraction(1)]\n",
    "        self.n=n\n",
    "\n",
    "    def __repr__(self):\n",
    "        return f'Binom({repr(self.n)})'\n",
    "\n",
    "    def step(self):\n",
    "        n=len(self.l)\n",
    "        self.l.append(self.l[-1]*Fraction((self.n-n+1),n))"
   ]
  },
  {
   "cell_type": "markdown",
   "metadata": {},
   "source": [
    "Теперь реализуем сложение рядов. Центральный метод `step` вычисляет коффициент при $x^n$, который ещё не был известен. Для этого он складывает коффициеты при $x^n$ в рядах `a` и `b`. Если они ещё не были вычислены, то при вычислении `a[n]` будет вызван метод `a.step()`, а при вычислении `b[n]` - `b.step()`."
   ]
  },
  {
   "cell_type": "code",
   "execution_count": 10,
   "metadata": {
    "collapsed": true
   },
   "outputs": [],
   "source": [
    "class Sum(Series):\n",
    "    \"Сумма рядов\"\n",
    "\n",
    "    def __init__(self,a,b):\n",
    "        self.a=a\n",
    "        self.b=b\n",
    "        self.l=[a[0]+b[0]]\n",
    "\n",
    "    def __repr__(self):\n",
    "        return f'Sum({repr(self.a)},{repr(self.b)})'\n",
    "\n",
    "    def step(self):\n",
    "        n=len(self.l)\n",
    "        self.l.append(self.a[n]+self.b[n])"
   ]
  },
  {
   "cell_type": "markdown",
   "metadata": {},
   "source": [
    "Произведение рядов реализовано аналогично, только формула для коэффициента при $x^n$ немного сложнее."
   ]
  },
  {
   "cell_type": "code",
   "execution_count": 11,
   "metadata": {
    "collapsed": true
   },
   "outputs": [],
   "source": [
    "class Product(Series):\n",
    "    \"Произведение рядов\"\n",
    "\n",
    "    def __init__(self,a,b):\n",
    "        self.a=a\n",
    "        self.b=b\n",
    "        self.l=[a[0]*b[0]]\n",
    "\n",
    "    def __repr__(self):\n",
    "        return f'Product({repr(self.a)},{repr(self.b)})'\n",
    "\n",
    "    def step(self):\n",
    "        n=len(self.l)\n",
    "        self.l.append(sum(self.a[i]*self.b[n-i] for i in range(n+1)))"
   ]
  },
  {
   "cell_type": "markdown",
   "metadata": {},
   "source": [
    "Если один из сомножителей не ряд, а число (рациональное или целое), ситуация упрощается."
   ]
  },
  {
   "cell_type": "code",
   "execution_count": 12,
   "metadata": {
    "collapsed": true
   },
   "outputs": [],
   "source": [
    "class Product1(Series):\n",
    "    \"Ряд умножить на число\"\n",
    "\n",
    "    def __init__(self,a,b):\n",
    "        self.a = a\n",
    "        self.b = b\n",
    "        self.l=[a.l[i]*b for i in range(len(a.l))]\n",
    "\n",
    "    def __repr__(self):\n",
    "        return Product.__repr__(self)\n",
    "\n",
    "    def step(self):\n",
    "        n=len(self.l)\n",
    "        self.l.append(self.a[n]*self.b)"
   ]
  },
  {
   "cell_type": "markdown",
   "metadata": {},
   "source": [
    "Возведение в степень (целую или рациональную) - более сложная операция. В некоторых случаях результат не является рядом Тэйлора. Например, если $a_0=0$, то при возведении ряда $a$ в отрицательную степень получится ряд Лорана, а у нас они не реализованы. При возведении в дробную степень может получиться ряд по дробным степеням $x$. Такие случаи отлавливаются операторами `assert`, и возбуждают исключения. В нормальном случае используется рекуррентное соотношение - коффициент $l_n$ при $x^n$ в ряде-результате выражается через уже вычисленные $l_m$ с $m<n$ (и, конечно, через $a_m$). Используются некоторые вспомогательные классы и функции, которые будут определены позже."
   ]
  },
  {
   "cell_type": "code",
   "execution_count": 13,
   "metadata": {
    "collapsed": true
   },
   "outputs": [],
   "source": [
    "class Pow(Series):\n",
    "    \"a^n\"\n",
    "\n",
    "    def __init__(self,a,n):\n",
    "        self.a=a\n",
    "        self.n=n\n",
    "        a0=Fraction(a[0])\n",
    "        an,ad=a0.numerator,a0.denominator\n",
    "        if isinstance(n,Fraction):\n",
    "            nn,nd=n.numerator,n.denominator\n",
    "            an=pow1(an,nd)**nn\n",
    "            ad=pow1(ad,nd)**nn\n",
    "            a0=Fraction(an,ad)\n",
    "        else:\n",
    "            a0=a0**n\n",
    "        self.l=[a0]\n",
    "\n",
    "    def __repr__(self):\n",
    "        return f'Pow({repr(self.a)},{repr(self.n)})'\n",
    "\n",
    "    def step(self):\n",
    "        m=len(self.l)\n",
    "        self.l.append(sum((k*self.n-m+k)*self.a[k]*self.l[m-k] for k in range(1,m+1))/(m*self.a[0]))"
   ]
  },
  {
   "cell_type": "markdown",
   "metadata": {},
   "source": [
    "Деление рядов реализовано похожим образом. Опять используется рекуррентное соотношение для коэффициентов."
   ]
  },
  {
   "cell_type": "code",
   "execution_count": 14,
   "metadata": {
    "collapsed": true
   },
   "outputs": [],
   "source": [
    "class Div(Series):\n",
    "    \"Деление рядов\"\n",
    "\n",
    "    def __init__(self,a,b):\n",
    "        assert b[0]!=0\n",
    "        self.a=a\n",
    "        self.b=b\n",
    "        self.l=[a[0]/b[0]]\n",
    "\n",
    "    def __repr__(self):\n",
    "        return f'Div({repr(self.a)},{repr(self.b)})'\n",
    "\n",
    "    def step(self):\n",
    "        n=len(self.l)\n",
    "        self.l.append((self.a[n]-sum(self.b[k]*self.l[n-k] for k in range(1,n+1)))/self.b[0])"
   ]
  },
  {
   "cell_type": "markdown",
   "metadata": {},
   "source": [
    "Что если мы хотим посчитать $e^{\\sin x}$? Для этого в ряд для $e^x$ вместо $x$ мы подставляем ряд для $\\sin x$. Для этого второй ряд должен начинаться с члена $\\sim x$ (или с более высокой степени $x$). Коффициенты ряда-результата наиболее просто выражаются через полиномы Белла от коэффициентов этого второго ряда. Полиномы Белла реализованы во вспомогательном классе, определённом позже."
   ]
  },
  {
   "cell_type": "code",
   "execution_count": 15,
   "metadata": {
    "collapsed": true
   },
   "outputs": [],
   "source": [
    "class Apply(Series):\n",
    "    \"a(b)\"\n",
    "\n",
    "    def __init__(self,a,b):\n",
    "        assert isinstance(b,Series) and b[0]==0\n",
    "        self.a=a\n",
    "        self.b=b\n",
    "        self.l=[a[0]]\n",
    "        self.bell=Bell()\n",
    "        self.c=1\n",
    "\n",
    "    def __repr__(self):\n",
    "        return f'Apply({repr(a)},{repr(b)})'\n",
    "\n",
    "    def step(self):\n",
    "        n=len(self.l)\n",
    "        self.c*=n\n",
    "        self.bell.step(self.c*self.b[n])\n",
    "        r=0\n",
    "        c=1\n",
    "        for k in range(1,n+1):\n",
    "            c*=k\n",
    "            r+=c*self.a[k]*self.bell[n,k]\n",
    "        self.l.append(r/c)"
   ]
  },
  {
   "cell_type": "markdown",
   "metadata": {},
   "source": [
    "Очень часто мы хотим вчесто $x$ подставить в ряд $c x$ (например, $-x$). Это можно, конечно, сделать при помощи `Apply` и второго ряда вида `Series([0,c])`. Но такое забивание гвоздей микроскопом очень неффективно. Сделаем проще."
   ]
  },
  {
   "cell_type": "code",
   "execution_count": 16,
   "metadata": {
    "collapsed": true
   },
   "outputs": [],
   "source": [
    "class Apply1(Series):\n",
    "    \"a(c*x)\"\n",
    "\n",
    "    def __init__(self,a,c):\n",
    "        self.a=a\n",
    "        self.c=c\n",
    "        self.x=c\n",
    "        self.l=[a[0]]\n",
    "\n",
    "    def __repr__(self):\n",
    "        return f'Apply1({repr(self.a)},{repr(self.c)})'\n",
    "\n",
    "    def step(self):\n",
    "        n=len(self.l)\n",
    "        self.l.append(self.x*self.a[n])\n",
    "        self.x*=self.c"
   ]
  },
  {
   "cell_type": "markdown",
   "metadata": {},
   "source": [
    "Это один из обещанных вспомогательных классов (иногда он может пригодиться и сам по себе). Он умножает ряд $a$ на $x^n$. Если $n<0$, то первые $n$ коэффициентов ряда $a$ должны быть равны 0, иначе получится ряд Лорана."
   ]
  },
  {
   "cell_type": "code",
   "execution_count": 17,
   "metadata": {
    "collapsed": true
   },
   "outputs": [],
   "source": [
    "class Shift(Series):\n",
    "    \"a*x^n\"\n",
    "\n",
    "    def __init__(self,a,n):\n",
    "        if n<0:\n",
    "            for i in range(-n):\n",
    "                assert a[i]==0\n",
    "            self.l=[a[-n]]\n",
    "            self.n=-n\n",
    "        else:\n",
    "            self.l=[0 for i in range(n)]\n",
    "            self.n=-1\n",
    "        self.a=a\n",
    "\n",
    "    def __repr__(self):\n",
    "        return f'Shift({repr(self.a)},{repr(self.n)})'\n",
    "\n",
    "    def step(self):\n",
    "        self.n+=1\n",
    "        self.l.append(self.a[self.n])"
   ]
  },
  {
   "cell_type": "markdown",
   "metadata": {},
   "source": [
    "Допустим, мы хотим из ряда для $\\sin x$ получить ряд для $\\arcsin x$, т.е. решить уравнение $\\sin x = y$ относительно $x$ в виде ряда по $y$. Это делает класс `Inv` (в нём опять используются полиномы Белла). Конечно, чтобы задача имела решение, исходный ряд должен начинаться с члена $\\sim x$."
   ]
  },
  {
   "cell_type": "code",
   "execution_count": 18,
   "metadata": {
    "collapsed": true
   },
   "outputs": [],
   "source": [
    "class Inv(Series):\n",
    "    \"Решить уравнение a(x)=y в виде ряда по y\"\n",
    "\n",
    "    def __init__(self,a):\n",
    "        assert a[0]==0 and a[1]!=0\n",
    "        self.a=a\n",
    "        self.l=[0,1/a[1]]\n",
    "        self.bell=Bell()\n",
    "        self.f=1\n",
    "        self.c=1\n",
    "\n",
    "    def __repr__(self):\n",
    "        return f'Inv({repr(self.a)})'\n",
    "\n",
    "    def step(self):\n",
    "        n=len(self.l)\n",
    "        self.bell.step(self.f*self.a[n]/self.a[1])\n",
    "        self.f*=n\n",
    "        self.c/=(n*self.a[1])\n",
    "        r=0\n",
    "        c=1\n",
    "        for k in range(1,n):\n",
    "            c*=1-n-k\n",
    "            r+=c*self.bell[n-1,k]\n",
    "        self.l.append(self.c*r)"
   ]
  },
  {
   "cell_type": "markdown",
   "metadata": {},
   "source": [
    "Вот парочка очень простых классов, вычисляющих производную и интеграл от ряда."
   ]
  },
  {
   "cell_type": "code",
   "execution_count": 19,
   "metadata": {
    "collapsed": true
   },
   "outputs": [],
   "source": [
    "class Diff(Series):\n",
    "    \"Производная\"\n",
    "\n",
    "    def __init__(self,a):\n",
    "        self.a=a\n",
    "        self.l=[a[1]]\n",
    "\n",
    "    def __repr__(self):\n",
    "        return f'Diff({repr(self.a)})'\n",
    "\n",
    "    def step(self):\n",
    "        n=len(self.l)+1\n",
    "        self.l.append(n*self.a[n])"
   ]
  },
  {
   "cell_type": "code",
   "execution_count": 20,
   "metadata": {
    "collapsed": true
   },
   "outputs": [],
   "source": [
    "class Int(Series):\n",
    "    \"Интеграл\"\n",
    "\n",
    "    def __init__(self, a):\n",
    "        self.a = a\n",
    "        self.l = [0]\n",
    "\n",
    "    def __repr__(self):\n",
    "        return f'Int({repr(self.a)})'\n",
    "\n",
    "    def step(self):\n",
    "        n = len(self.l)\n",
    "        self.l.append(self.a[n-1]/Fraction(n))"
   ]
  },
  {
   "cell_type": "markdown",
   "metadata": {},
   "source": [
    "Полиномы Белла вычисляются при помощи рекуррентного соотношения. Этот класс тоже реализован как ленивый."
   ]
  },
  {
   "cell_type": "code",
   "execution_count": 21,
   "metadata": {
    "collapsed": true
   },
   "outputs": [],
   "source": [
    "class Bell:\n",
    "    \"\"\"\n",
    "    Bell polynomials $B_{n,k}(x_1,...,x_{n-k+1})$ ($k \\le n$)\n",
    "    https://en.wikipedia.org/wiki/Bell_polynomials\n",
    "    \"\"\"\n",
    "\n",
    "    def __init__(self):\n",
    "        self.x=[]\n",
    "        self.b={(0,0):Fraction(1)}\n",
    "\n",
    "    def __getitem__(self,n):\n",
    "        return self.b[n]\n",
    "\n",
    "    def step(self,x):\n",
    "        \"\"\"\n",
    "        Add a new $n$ (with its $x_n$)\n",
    "        and calculate all $B_{n,k}$ for $k\\in[0,n]$\n",
    "        \"\"\"\n",
    "        self.x.append(x)\n",
    "        n=len(self.x)\n",
    "        self.b[n,0]=0\n",
    "        c=Fraction(1,n)\n",
    "        for k in range(1,n+1):\n",
    "            r=0\n",
    "            c=1\n",
    "            for i in range(1,n-k+2):\n",
    "                r+=c*self.x[i-1]*self.b[n-i,k-1]\n",
    "                c*=Fraction(n-i,i)\n",
    "            self.b[n,k]=r"
   ]
  },
  {
   "cell_type": "markdown",
   "metadata": {},
   "source": [
    "Это вспомогательная функция, используемая в классе `Pow`. Если степень нецелая, т.е. равна $m/n$, то ведущий коэффициент ряда надо возвести в такую степень, что не всегда возможно в классе рациональных чисел. Эта функция пытается возвести целое число $x$ в степень $1/n$ (где $n$ целое) и получить целый результат. Она сначала возводит в степень в числах с плавающей точкой. Это даёт приближённый результат, переводим его в целый с помощью `round` и проверяем, получили ли мы то, что нужно. Это, конечно, некузяво: когда $x$ и $n$ очень большие целые числа, ошибка вычисления в double precision может стать $>1$, и мы промахнёмся. Но мне было лень придумывать более правильную функцию."
   ]
  },
  {
   "cell_type": "code",
   "execution_count": 22,
   "metadata": {
    "collapsed": true
   },
   "outputs": [],
   "source": [
    "def pow1(x,n):\n",
    "    \"x**(1/n)\"\n",
    "    y=round(x**(1/n))\n",
    "    assert y**n==x\n",
    "    return y"
   ]
  },
  {
   "cell_type": "markdown",
   "metadata": {},
   "source": [
    "Посмотрим, как всё это работает."
   ]
  },
  {
   "cell_type": "code",
   "execution_count": 23,
   "metadata": {},
   "outputs": [
    {
     "name": "stdout",
     "output_type": "stream",
     "text": [
      "1+O(x)\n",
      "0\n",
      "1+O(x^11)\n"
     ]
    }
   ],
   "source": [
    "c=Cos()\n",
    "s=Sin()\n",
    "r=c**2+s**2\n",
    "print(r)\n",
    "print(r[10])\n",
    "print(r)"
   ]
  },
  {
   "cell_type": "markdown",
   "metadata": {},
   "source": [
    "Программа работы с рядами, конечно, не знает, что $\\cos^2 x + \\sin^2 x = 1$ *точно*.\n",
    "\n",
    "Ряд-результат - это дерево, листья которого - объекты `Cos()` и `Sin()`.\n",
    "\n",
    "![series](series.png)\n",
    "\n",
    "В начале мы видим только, что $r_0 = 1$. Когда мы запрашиваем $r_1$, вызывается `r.step()`, чтобы вычислить следующий коэффициент. Этот метод вызывает `step` обоих слагаемых; те, в свою очередь, вызывают `step` своих аргументов - объектов `Cos()` и `Sin()`. И так повторяется каждый раз, когда мы хотим узнать очередной член $r$.\n",
    "\n",
    "Посчитаем тангенс и арктангенс."
   ]
  },
  {
   "cell_type": "code",
   "execution_count": 24,
   "metadata": {},
   "outputs": [
    {
     "name": "stdout",
     "output_type": "stream",
     "text": [
      "x+O(x^2)\n",
      "0\n",
      "x-1/3*x^3+1/5*x^5-1/7*x^7+1/9*x^9+O(x^11)\n"
     ]
    }
   ],
   "source": [
    "t=s/c\n",
    "at=t.inv()\n",
    "print(at)\n",
    "print(at[10])\n",
    "print(at)"
   ]
  },
  {
   "cell_type": "code",
   "execution_count": 25,
   "metadata": {},
   "outputs": [
    {
     "name": "stdout",
     "output_type": "stream",
     "text": [
      "1-x^2+x^4-x^6+x^8-x^10+O(x^11)\n",
      "1-x^2+x^4-x^6+x^8-x^10+O(x^11)\n",
      "x-1/3*x^3+1/5*x^5-1/7*x^7+1/9*x^9+O(x^11)\n"
     ]
    }
   ],
   "source": [
    "atd=at.diff()\n",
    "u=atd[10]\n",
    "print(atd)\n",
    "x=Series([0,1])\n",
    "d=1/(1+x**2)\n",
    "u=d[10]\n",
    "print(d)\n",
    "at=d.int()\n",
    "u=at[10]\n",
    "print(at)"
   ]
  },
  {
   "cell_type": "markdown",
   "metadata": {},
   "source": [
    "Теперь посчитаем $\\sin(\\tan(x))-\\tan(\\sin(x))$."
   ]
  },
  {
   "cell_type": "code",
   "execution_count": 26,
   "metadata": {},
   "outputs": [
    {
     "name": "stdout",
     "output_type": "stream",
     "text": [
      "O(x)\n"
     ]
    }
   ],
   "source": [
    "r=s(t)-t(s)\n",
    "print(r)"
   ]
  },
  {
   "cell_type": "markdown",
   "metadata": {},
   "source": [
    "Для того, чтобы объекты класса `Series` можно было вызывать, как функции, т.е. писать `s(t)`, реализован метод `__call__`. С какого порядка по $x$ начинается ряд $r$?"
   ]
  },
  {
   "cell_type": "code",
   "execution_count": 27,
   "metadata": {},
   "outputs": [
    {
     "name": "stdout",
     "output_type": "stream",
     "text": [
      "n=7, p=-1/30+O(x)\n"
     ]
    }
   ],
   "source": [
    "p,n=r.norm()\n",
    "print(f'n={n}, p={p}')"
   ]
  },
  {
   "cell_type": "markdown",
   "metadata": {},
   "source": [
    "Вызов метода `r.norm()` представляет ряд $r$ в виде $x^n \\cdot p$, где ряд $p = p_0 + O(x)$ начинается с ненулевого члена $p_0 \\ne 0$, и возвращает кортеж `(p,n)`. Но если ему подсунуть ряд, все коффициенты которого равны 0 (вроде `c**2+s**2-1`), он бы зациклился. Чтобы избежать этого, введён максимальный порядок по $x$ (по умолчанию 100).\n",
    "\n",
    "Вот набор тестов, довольно подробно проверяющий работу нашей программы."
   ]
  },
  {
   "cell_type": "code",
   "execution_count": 28,
   "metadata": {
    "collapsed": true
   },
   "outputs": [],
   "source": [
    "n=10\n",
    "\n",
    "def zero(s):\n",
    "    for i in range(n):\n",
    "        assert s[i]==0"
   ]
  },
  {
   "cell_type": "code",
   "execution_count": 29,
   "metadata": {
    "collapsed": true
   },
   "outputs": [],
   "source": [
    "def test_sincos():\n",
    "    c=Cos()\n",
    "    s=Sin()\n",
    "    # cos(x)**2 + sin(x)**2 = 1\n",
    "    zero(c**2+s**2-1)\n",
    "    # (1+cos(x))/2 = cos(x/2)**2\n",
    "    zero((1+c)/2-c.scale(Fraction(1,2))**2)\n",
    "    # (1-cos(x))/2 = sin(x/2)**2\n",
    "    zero((1-c)/2-s.scale(Fraction(1,2))**2)\n",
    "    # sin(asin(x)) = x, asin(sin(x)) = x\n",
    "    asin=s.inv()\n",
    "    x=Series([0,1])\n",
    "    zero(s(asin)-x)\n",
    "    zero(asin(s)-x)\n",
    "    # 1 + tan(x)**2 = 1/cos(x)**2\n",
    "    t=s/c\n",
    "    zero(1+t**2-1/c**2)\n",
    "    # 2*cos(x)*sin(x) = sin(2*x)\n",
    "    zero(2*c*s-s.scale(2))\n",
    "    # cos(x)**2 - sin(x)**2 = cos(2*x)\n",
    "    zero(c**2-s**2-c.scale(2))\n",
    "    # 2*tan(x/2)/(1+tan(x/2)**2) = sin(x)\n",
    "    t=t.scale(Fraction(1,2))\n",
    "    zero(2*t/(1+t**2)-s)\n",
    "    # (1-tan(x/2)**2)/(1+tan(x/2)**2) = cos(x)\n",
    "    zero((1-t**2)/(1+t**2)-c)"
   ]
  },
  {
   "cell_type": "code",
   "execution_count": 30,
   "metadata": {
    "collapsed": true
   },
   "outputs": [],
   "source": [
    "def test_explog():\n",
    "    e=Exp()\n",
    "    l=Log()\n",
    "    # exp(log(1+x)) = 1+x\n",
    "    x=Series([0,1])\n",
    "    zero(e(l)-1-x)\n",
    "    # log(1+(exp(x)-1)) = x\n",
    "    zero(l(e-1)-x)\n",
    "    # cosh(x)**2 - sinh(x)**2 = 1\n",
    "    ch=(e+e.scale(-1))/2\n",
    "    sh=(e-e.scale(-1))/2\n",
    "    zero(ch**2-sh**2-1)\n",
    "    # tanh(x) = (exp(2*x)-1)/(exp(2*x)+1)\n",
    "    th=sh/ch\n",
    "    zero((e.scale(2)-1)/(e.scale(2)+1)-th)\n",
    "    # atanh(x) = 1/2*log((1+x)/(1-x))\n",
    "    ath=th.inv()\n",
    "    zero(ath(th)-x)\n",
    "    zero(th(ath)-x)\n",
    "    zero((l-l.scale(-1))/2-ath)\n",
    "    zero(l-l.scale(-1)-l(2*x/(1-x)))\n",
    "    # asinh(x) = log(sqrt(1+x**2)+x\n",
    "    ash=sh.inv()\n",
    "    zero(l((1+x**2)**Fraction(1,2)-1+x)-ash)\n",
    "    # ((1+x)**(1/3))**3 = 1+x\n",
    "    b=Binom(Fraction(1,3))\n",
    "    zero(b**3-1-x)\n",
    "    b**=Fraction(3,5)\n",
    "    zero(Binom(Fraction(1,5))-b)"
   ]
  },
  {
   "cell_type": "code",
   "execution_count": 31,
   "metadata": {
    "collapsed": true
   },
   "outputs": [],
   "source": [
    "test_sincos()"
   ]
  },
  {
   "cell_type": "code",
   "execution_count": 32,
   "metadata": {
    "collapsed": true
   },
   "outputs": [],
   "source": [
    "test_explog()"
   ]
  }
 ],
 "metadata": {
  "kernelspec": {
   "display_name": "Python 3",
   "language": "python3.6",
   "name": "python3"
  },
  "language_info": {
   "codemirror_mode": {
    "name": "ipython",
    "version": 3
   },
   "file_extension": ".py",
   "mimetype": "text/x-python",
   "name": "python",
   "nbconvert_exporter": "python",
   "pygments_lexer": "ipython3",
   "version": "3.6.3"
  }
 },
 "nbformat": 4,
 "nbformat_minor": 2
}

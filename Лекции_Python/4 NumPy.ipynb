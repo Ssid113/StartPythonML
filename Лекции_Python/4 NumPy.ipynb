{
 "cells": [
  {
   "cell_type": "markdown",
   "metadata": {},
   "source": [
    "# Массивы numpy\n",
    "\n",
    "Основным объектом NumPy является однородный многомерный массив.ЭтоТаблица элементов (обычно чисел), все одного типа, индексируется как кортеж натуральных чисел.\n",
    "\n",
    "Например, координаты точки в 3D пространстве\\[1, 2, 1\\] Имеет одна ось.Эта ось имеет 3 элемента, поэтому мы говорим, что она имеет длину из 3.В приведенном ниже примере массив имеет 2 оси. Первая ось имеет длину 2, вторая ось имеет длину 3."
   ]
  },
  {
   "cell_type": "code",
   "execution_count": null,
   "metadata": {},
   "outputs": [],
   "source": [
    "[[ 1., 0., 0.],\n",
    " [ 0., 1., 2.]]"
   ]
  },
  {
   "cell_type": "markdown",
   "metadata": {},
   "source": [
    "Класс массива NumPy называется ndarray. Он также известен под псевдонимом array. Заметить что numpy.array не то же самое, что и стандарт Класса библиотеки Pythonarray.array, который обрабатывает только одномерныемассивы и предложения меньшей функциональности.Более важные атрибуты ndarray объект\n",
    "\n",
    "ndarray.ndim\n",
    "    количество осей (размеров) массива.\n",
    "ndarray.shape\n",
    "    размеры массива.Это кортеж целых чисел, указывающихРазмер массива в каждом измерении.Для матрицы ссеверный грядкиим столбцыshape будет(n,m). Длинаshape кортеж поэтому количество осейndim.\n",
    "ndarray.size\n",
    "    общее количество элементов массива.Это равнопроизведение элементовshape.\n",
    "ndarray.dtype\n",
    "    объект, описывающий Тип элементов в массиве.Можносоздайте или укажите dtype, используя стандартные типы Python.Кроме тогоNumPy предоставляет свои собственные типы.numpy.int32, numpy.int16, иnumpy.float64-это несколько примеров.\n",
    "ndarray.itemsize\n",
    "    размер в байтах каждого элемента массива.Например,массив элементов типаfloat64 Имеетitemsize 8 (=64/8), пока один из типаcomplex32 Имеетitemsize 4 (=32/8). этоэквивалентныйndarray.dtype.itemsize.\n",
    "ndarray.data\n",
    "    буфер, содержащий фактические элементы массива.Нормально, мыне нужно будет использовать этот атрибут, потому что мы будем обращаться к элементамв массиве с использованием средств индексирования."
   ]
  },
  {
   "cell_type": "code",
   "execution_count": 2,
   "metadata": {
    "collapsed": true
   },
   "outputs": [
    {
     "name": "stdout",
     "output_type": "stream",
     "text": [
      "[[ 0  1  2  3  4]\n",
      " [ 5  6  7  8  9]\n",
      " [10 11 12 13 14]]\n",
      "(3, 5)\n",
      "2\n",
      "int32\n",
      "4\n",
      "15\n",
      "[6 7 8]\n",
      "<class 'numpy.ndarray'>\n"
     ]
    }
   ],
   "source": [
    "import numpy as np\n",
    "a = np.arange(15).reshape(3, 5)\n",
    "print(a)\n",
    "print(a.shape)\n",
    "print(a.ndim)\n",
    "print(a.dtype.name)\n",
    "print(a.itemsize)\n",
    "print(a.size)\n",
    "type(a)\n",
    "b = np.array([6, 7, 8])\n",
    "print(b)\n",
    "print(type(b))"
   ]
  },
  {
   "cell_type": "markdown",
   "metadata": {},
   "source": [
    "Библиотека включает в себя справочную документацию\n",
    "На веб-сайте: http://docs.scipy.org\n",
    "\n",
    "Интерактивная помощь:\n",
    "(попробуйте запустить код ниже, не забудьте импортировать библиотеку)"
   ]
  },
  {
   "cell_type": "code",
   "execution_count": null,
   "metadata": {},
   "outputs": [],
   "source": [
    "np.array?"
   ]
  },
  {
   "cell_type": "code",
   "execution_count": null,
   "metadata": {},
   "outputs": [],
   "source": [
    "np.lookfor('create array') "
   ]
  },
  {
   "cell_type": "code",
   "execution_count": 3,
   "metadata": {},
   "outputs": [],
   "source": [
    "np.con*?"
   ]
  },
  {
   "cell_type": "markdown",
   "metadata": {},
   "source": [
    "### Создание массивов\n",
    "Ручное построение массивов"
   ]
  },
  {
   "cell_type": "code",
   "execution_count": null,
   "metadata": {},
   "outputs": [],
   "source": [
    "# 1D\n",
    "a = np.array([0, 1, 2, 3])\n",
    "print(a)\n",
    "# 2D\n",
    "b = np.array([[0, 1, 2], [3, 4, 5]])\n",
    "print(b)\n",
    "# 3D\n",
    "c = np.array([[[1], [2]], [[3], [4]]])\n",
    "print(c)"
   ]
  },
  {
   "cell_type": "markdown",
   "metadata": {},
   "source": [
    "Функции для создания массивов"
   ]
  },
  {
   "cell_type": "code",
   "execution_count": 8,
   "metadata": {
    "collapsed": true
   },
   "outputs": [
    {
     "name": "stdout",
     "output_type": "stream",
     "text": [
      "[0 1 2 3 4 5 6 7 8 9]\n",
      "[1 3 5 7]\n",
      "[0.  0.2 0.4 0.6 0.8 1. ]\n",
      "[0.  0.2 0.4 0.6 0.8]\n",
      "[[1. 1. 1.]\n",
      " [1. 1. 1.]\n",
      " [1. 1. 1.]]\n",
      "[[0. 0.]\n",
      " [0. 0.]]\n",
      "[[1. 0. 0.]\n",
      " [0. 1. 0.]\n",
      " [0. 0. 1.]]\n",
      "[[1 0 0 0]\n",
      " [0 2 0 0]\n",
      " [0 0 3 0]\n",
      " [0 0 0 4]]\n",
      "[0.19151945 0.62210877 0.43772774 0.78535858]\n",
      "[-0.72058873  0.88716294  0.85958841 -0.6365235 ]\n",
      "None\n"
     ]
    }
   ],
   "source": [
    "# Равномерно\n",
    "print(\"Равномерно\")\n",
    "a = np.arange(10)\n",
    "print(a)\n",
    "b = np.arange(1, 9, 2) # start, end (exclusive), step\n",
    "print(b)\n",
    "# или по количеству точек\n",
    "c = np.linspace(0, 1, 6) # start, end, num-points\n",
    "print(c)\n",
    "d = np.linspace(0, 1, 5, endpoint=False)\n",
    "print(d)\n",
    "# Общие массивы\n",
    "print(\"Общие массивы\")\n",
    "a = np.ones((3, 3))  # reminder: (3, 3) is a tuple\n",
    "print(a)\n",
    "b = np.zeros((2, 2))\n",
    "print(b)\n",
    "c = np.eye(3)\n",
    "print(c)\n",
    "d = np.diag(np.array([1, 2, 3, 4]))\n",
    "print(d)\n",
    "# Random\n",
    "print(\"Random\")\n",
    "a = np.random.rand(4)       # uniform in 0, 1\n",
    "print(a)\n",
    "b = np.random.randn(4)      # Gaussian\n",
    "print(b)\n",
    "\n",
    "\n",
    "np.random.seed(1234))       # Setting the random seed"
   ]
  },
  {
   "cell_type": "markdown",
   "metadata": {},
   "source": [
    "### Основные типы данных\n",
    "Вы, возможно, заметили, что в некоторых случаях элементы массива отображаются с конечные точки (например, 2. против 2). Это связано с разницей в используемый тип данных"
   ]
  },
  {
   "cell_type": "code",
   "execution_count": 9,
   "metadata": {
    "collapsed": true
   },
   "outputs": [
    {
     "name": "stdout",
     "output_type": "stream",
     "text": [
      "int32\n",
      "float64\n"
     ]
    }
   ],
   "source": [
    "a = np.array([1, 2, 3])\n",
    "print(a.dtype)\n",
    "b = np.array([1., 2., 3.])\n",
    "print(b.dtype)"
   ]
  },
  {
   "cell_type": "markdown",
   "metadata": {},
   "source": [
    "Различные типы данных позволяют более компактно хранить данные в памяти, но большую часть времени мы просто работаем с числами с плавающей точкой.Обратите внимание, что в приведенном выше примере NumPy автоматически определяет тип данных от входа.\n",
    "\n",
    "Можно явно указать, какой тип данных требуется"
   ]
  },
  {
   "cell_type": "code",
   "execution_count": 10,
   "metadata": {
    "collapsed": true
   },
   "outputs": [
    {
     "name": "stdout",
     "output_type": "stream",
     "text": [
      "float64\n",
      "float64\n"
     ]
    }
   ],
   "source": [
    "c = np.array([1, 2, 3], dtype=float)\n",
    "print(c.dtype)\n",
    "# По умолчанию тип данных-плавающая точка\n",
    "a = np.ones((3, 3))\n",
    "print(a.dtype)"
   ]
  },
  {
   "cell_type": "markdown",
   "metadata": {},
   "source": [
    "Есть и другие типы\n",
    "\n",
    "Тип|Код\n",
    "---|---\n",
    "Комплекс|d = np.array(\\[1+2j, 3+4j, 5+6*1j\\])\n",
    "Тип bool|e = np.array(\\[True, False, False, True\\])\n",
    "Строки|f = np.array(\\['Bonjour', 'Hello', 'Hallo'\\])\t\n",
    "Другие|\tint32,int64,uint32,uint64\n",
    "\n",
    "### Базовая визуализация\n",
    "(о matplotlib конкретнее мы поговорим позже)\n",
    "Теперь, когда у нас есть первые массивы данных, мы их визуализируем.\n",
    "Матплотлиб представляет собой пакет 2D-построения.Мы можем импортировать свои функции"
   ]
  },
  {
   "cell_type": "code",
   "execution_count": 32,
   "metadata": {},
   "outputs": [
    {
     "ename": "ModuleNotFoundError",
     "evalue": "No module named 'matplotlib'",
     "output_type": "error",
     "traceback": [
      "\u001b[1;31m---------------------------------------------------------------------------\u001b[0m",
      "\u001b[1;31mModuleNotFoundError\u001b[0m                       Traceback (most recent call last)",
      "\u001b[1;32m<ipython-input-32-c967b4aa814a>\u001b[0m in \u001b[0;36m<module>\u001b[1;34m()\u001b[0m\n\u001b[1;32m----> 1\u001b[1;33m \u001b[1;32mimport\u001b[0m \u001b[0mmatplotlib\u001b[0m\u001b[1;33m.\u001b[0m\u001b[0mpyplot\u001b[0m \u001b[1;32mas\u001b[0m \u001b[0mplt\u001b[0m\u001b[1;33m\u001b[0m\u001b[0m\n\u001b[0m\u001b[0;32m      2\u001b[0m \u001b[0mplt\u001b[0m\u001b[1;33m.\u001b[0m\u001b[0mplot\u001b[0m\u001b[1;33m(\u001b[0m\u001b[0mx\u001b[0m\u001b[1;33m,\u001b[0m \u001b[0my\u001b[0m\u001b[1;33m)\u001b[0m       \u001b[1;31m# line plot\u001b[0m\u001b[1;33m\u001b[0m\u001b[0m\n\u001b[0;32m      3\u001b[0m \u001b[0mplt\u001b[0m\u001b[1;33m.\u001b[0m\u001b[0mshow\u001b[0m\u001b[1;33m(\u001b[0m\u001b[1;33m)\u001b[0m           \u001b[1;31m# <-- shows the plot (not needed with interactive plots\u001b[0m\u001b[1;33m\u001b[0m\u001b[0m\n\u001b[0;32m      4\u001b[0m \u001b[0mx\u001b[0m \u001b[1;33m=\u001b[0m \u001b[0mnp\u001b[0m\u001b[1;33m.\u001b[0m\u001b[0mlinspace\u001b[0m\u001b[1;33m(\u001b[0m\u001b[1;36m0\u001b[0m\u001b[1;33m,\u001b[0m \u001b[1;36m3\u001b[0m\u001b[1;33m,\u001b[0m \u001b[1;36m20\u001b[0m\u001b[1;33m)\u001b[0m\u001b[1;33m\u001b[0m\u001b[0m\n\u001b[0;32m      5\u001b[0m \u001b[0my\u001b[0m \u001b[1;33m=\u001b[0m \u001b[0mnp\u001b[0m\u001b[1;33m.\u001b[0m\u001b[0mlinspace\u001b[0m\u001b[1;33m(\u001b[0m\u001b[1;36m0\u001b[0m\u001b[1;33m,\u001b[0m \u001b[1;36m9\u001b[0m\u001b[1;33m,\u001b[0m \u001b[1;36m20\u001b[0m\u001b[1;33m)\u001b[0m\u001b[1;33m\u001b[0m\u001b[0m\n",
      "\u001b[1;31mModuleNotFoundError\u001b[0m: No module named 'matplotlib'"
     ]
    }
   ],
   "source": [
    "import matplotlib.pyplot as plt\n",
    "plt.plot(x, y)       # line plot\n",
    "plt.show()           # <-- shows the plot (not needed with interactive plots\n",
    "x = np.linspace(0, 3, 20)\n",
    "y = np.linspace(0, 9, 20)\n",
    "plt.plot(x, y)       # line plot"
   ]
  },
  {
   "cell_type": "code",
   "execution_count": null,
   "metadata": {},
   "outputs": [],
   "source": [
    "image = np.random.rand(30, 30)\n",
    "plt.imshow(image, cmap=plt.cm.hot)    \n",
    "plt.colorbar() "
   ]
  },
  {
   "cell_type": "markdown",
   "metadata": {},
   "source": [
    "### Индексирование и нарезка\n",
    "Элементы массива могут быть доступны и назначены так же, как другие последовательности Python (например, списки)"
   ]
  },
  {
   "cell_type": "code",
   "execution_count": null,
   "metadata": {},
   "outputs": [],
   "source": [
    "a = np.arange(10)\n",
    "print(a[0], a[2], a[-1])\n",
    "print(a[::-1])\n",
    "print(a[2:9:3])\n",
    "# Для многомерных массивов индексы являются кортежами целых чисел\n",
    "a = np.diag(np.arange(3))\n",
    "print(a)\n",
    "print(a[1, 1])\n",
    "print(a[1])"
   ]
  },
  {
   "cell_type": "markdown",
   "metadata": {},
   "source": [
    "![title](https://www.scipy-lectures.org/_images/numpy_indexing.png)\n"
   ]
  },
  {
   "cell_type": "code",
   "execution_count": 12,
   "metadata": {
    "collapsed": true
   },
   "outputs": [
    {
     "name": "stdout",
     "output_type": "stream",
     "text": [
      "[ 0  1  2  3  4 10 10 10 10 10]\n",
      "[0 1 2 3 4 4 3 2 1 0]\n"
     ]
    }
   ],
   "source": [
    "a = np.arange(10)\n",
    "a[5:] = 10\n",
    "print(a)\n",
    "\n",
    "b = np.arange(5)\n",
    "a[5:] = b[::-1]\n",
    "print(a)"
   ]
  },
  {
   "cell_type": "markdown",
   "metadata": {},
   "source": [
    "### Копии и вид\n",
    "Срезы создают вид на исходный массив, который дает доступ к данным массива. Таким образом, исходный массив не является скопированым в память. Вы можете использовать np.may_share_memory() , чтобы проверить."
   ]
  },
  {
   "cell_type": "code",
   "execution_count": 15,
   "metadata": {
    "collapsed": true
   },
   "outputs": [
    {
     "name": "stdout",
     "output_type": "stream",
     "text": [
      "[0 1 2 3 4 5 6 7 8 9]\n",
      "[0 2 4 6 8]\n",
      "[12  2  4  6  8]\n",
      "[12  1  2  3  4  5  6  7  8  9]\n"
     ]
    }
   ],
   "source": [
    "a = np.arange(10)\n",
    "print(a)\n",
    "b = a[::2]\n",
    "print(b)\n",
    "np.may_share_memory(a, b)\n",
    "b[0] = 12\n",
    "print(b)\n",
    "print(a) # !!!! a поменяет значение ВНИМАТЕЛЬНО"
   ]
  },
  {
   "cell_type": "code",
   "execution_count": 13,
   "metadata": {
    "collapsed": true
   },
   "outputs": [
    {
     "name": "stdout",
     "output_type": "stream",
     "text": [
      "[0 1 2 3 4 5 6 7 8 9]\n"
     ]
    },
    {
     "data": {
      "text/plain": [
       "False"
      ]
     },
     "execution_count": 13,
     "metadata": {},
     "output_type": "execute_result"
    }
   ],
   "source": [
    "a = np.arange(10)\n",
    "c = a[::2].copy()  # force a copy\n",
    "c[0] = 12\n",
    "print(a)\n",
    "np.may_share_memory(a, c)"
   ]
  },
  {
   "cell_type": "markdown",
   "metadata": {},
   "source": [
    "### Необычные индексации\n",
    "Массивы NumPy можно индексировать с помощью срезов, но также с логическими или целочисленными массивами. Этот метод называется необычные индексации. Он создает копию, а не вид."
   ]
  },
  {
   "cell_type": "code",
   "execution_count": 18,
   "metadata": {
    "collapsed": true
   },
   "outputs": [
    {
     "name": "stdout",
     "output_type": "stream",
     "text": [
      "[10  3  8  0 19 10 11  9 10  6  0 20 12  7 14]\n",
      "[ 3  0  9  6  0 12]\n",
      "[10 -1  8 -1 19 10 11 -1 10 -1 -1 20 -1  7 14]\n",
      "[ 3  0  9  6  0 12]\n"
     ]
    }
   ],
   "source": [
    "np.random.seed(3)\n",
    "a = np.random.randint(0, 21, 15)\n",
    "print(a)\n",
    "(a % 3 == 0)\n",
    "mask = (a % 3 == 0)\n",
    "extract_from_a = a[mask] # or, a[a%3==0\n",
    "print(extract_from_a)           # extract a sub-array with the mask\n",
    "a[a % 3 == 0] = -1\n",
    "print(a)\n",
    "print(extract_from_a) # Как видите extract_from_a не изменился"
   ]
  },
  {
   "cell_type": "code",
   "execution_count": 20,
   "metadata": {
    "collapsed": true
   },
   "outputs": [
    {
     "name": "stdout",
     "output_type": "stream",
     "text": [
      "[[3 4]\n",
      " [9 7]]\n"
     ]
    }
   ],
   "source": [
    "# Индексирование массивом целых чисел\n",
    "a = np.arange(10)\n",
    "idx = np.array([[3, 4], [9, 7]])\n",
    "idx.shape\n",
    "print(a[idx])"
   ]
  },
  {
   "cell_type": "markdown",
   "metadata": {},
   "source": [
    "### Численные операции над массивами\n",
    "#### Поэлементные операции"
   ]
  },
  {
   "cell_type": "code",
   "execution_count": 23,
   "metadata": {
    "collapsed": true
   },
   "outputs": [
    {
     "name": "stdout",
     "output_type": "stream",
     "text": [
      "[2 3 4 5]\n",
      "[ 2  4  8 16]\n",
      "[-1.  0.  1.  2.]\n",
      "[2. 4. 6. 8.]\n",
      "[ 2  3  6 13 28]\n",
      "[False  True False  True]\n",
      "[False False  True False]\n",
      "False\n",
      "True\n"
     ]
    }
   ],
   "source": [
    "# Со скалярами\n",
    "print(\"Со скалярами\")\n",
    "a = np.array([1, 2, 3, 4])\n",
    "print(a + 1)\n",
    "print(2**a)\n",
    "# Вся арифметика\n",
    "print(\"Вся арифметика\")\n",
    "b = np.ones(4) + 1\n",
    "print(a - b)\n",
    "print(a * b)\n",
    "j = np.arange(5)\n",
    "print(2**(j + 1) - j)\n",
    "# Сравнения\n",
    "print(\"Сравнения\")\n",
    "a = np.array([1, 2, 3, 4])\n",
    "b = np.array([4, 2, 2, 4])\n",
    "print(a == b)\n",
    "print(a > b)\n",
    "# Сравнение по массивам\n",
    "print(\"Сравнение по массивам\")\n",
    "a = np.array([1, 2, 3, 4])\n",
    "b = np.array([4, 2, 2, 4])\n",
    "c = np.array([1, 2, 3, 4])\n",
    "print(np.array_equal(a, b))\n",
    "print(np.array_equal(a, c))\n",
    "# Логическая операция\n",
    "print(\"Логическая операция\")\n",
    "a = np.array([1, 1, 0, 0], dtype=bool)\n",
    "b = np.array([1, 0, 1, 0], dtype=bool)\n",
    "print(np.logical_or(a, b))\n",
    "print(np.logical_and(a, b))\n",
    "# Трансцендентная функция\n",
    "print(\"Трансцендентная функция\")\n",
    "a = np.arange(5)\n",
    "print(np.sin(a))\n",
    "print(np.log(a))\n",
    "print(np.exp(a))\n",
    "# Несоответствия формы\n",
    "print(\"Несоответствия формы\")\n",
    "a = np.arange(4)\n",
    "print(a + np.array([1, 2])) \n",
    "# Перенос\n",
    "print(\"Перенос\")\n",
    "a = np.triu(np.ones((3, 3)), 1)   # see help(np.triu\n",
    "print(a)\n",
    "print(a.T)\n",
    "# "
   ]
  },
  {
   "cell_type": "markdown",
   "metadata": {},
   "source": [
    "### Основные сокращения"
   ]
  },
  {
   "cell_type": "code",
   "execution_count": 28,
   "metadata": {
    "collapsed": true
   },
   "outputs": [
    {
     "name": "stdout",
     "output_type": "stream",
     "text": [
      "Вычислительные суммы\n",
      "10\n",
      "10\n",
      "Сумма по строкам и столбцам\n",
      "[[1 1]\n",
      " [2 2]]\n",
      "[3 3]\n",
      "3 3\n",
      "[2 4]\n",
      "2 4\n",
      "Экстремум\n",
      "1\n",
      "3\n",
      "0\n",
      "1\n",
      "Логическая операция\n",
      "False\n",
      "True\n",
      "Статистика\n",
      "1.75\n",
      "1.5\n",
      "[2. 5.]\n",
      "0.82915619758885\n"
     ]
    }
   ],
   "source": [
    "# Вычислительные суммы\n",
    "print(\"Вычислительные суммы\")\n",
    "x = np.array([1, 2, 3, 4])\n",
    "print(np.sum(x))\n",
    "print(x.sum())\n",
    "# Сумма по строкам и столбцам\n",
    "print(\"Сумма по строкам и столбцам\")\n",
    "x = np.array([[1, 1], [2, 2]])\n",
    "print(x)\n",
    "print(x.sum(axis=0))   # columns (first dimension\n",
    "print(x[:, 0].sum(), x[:, 1].sum())\n",
    "print(x.sum(axis=1))   # rows (second dimension\n",
    "print(x[0, :].sum(), x[1, :].sum())\n",
    "# Экстремум\n",
    "print(\"Экстремум\")\n",
    "x = np.array([1, 3, 2])\n",
    "print(x.min())\n",
    "print(x.max())\n",
    "print(x.argmin())  # index of minimum\n",
    "print(x.argmax())  # index of maximum\n",
    "# Логическая операция\n",
    "print(\"Логическая операция\")\n",
    "print(np.all([True, True, False]))\n",
    "print(np.any([True, True, False]))\n",
    "# Статистика\n",
    "print(\"Статистика\")\n",
    "x = np.array([1, 2, 3, 1])\n",
    "y = np.array([[1, 2, 3], [5, 6, 1]])\n",
    "print(x.mean())\n",
    "print(np.median(x))\n",
    "print(np.median(y, axis=-1)) # last axis\n",
    "print(x.std())         # full population standard dev."
   ]
  },
  {
   "cell_type": "markdown",
   "metadata": {},
   "source": [
    "### Broadcasting\n",
    "(Вещание, но перевод не отражает всей сути операции)\n",
    "Это основные операции на массивами, работает с массивами одинакового размера.\n",
    "Тем не менее, это также можно сделать над массивами различной размеры если и NumPy может превратить эти массивы так, что все они имеют одинаковый размер: это преобразование называется вещанием.\n",
    "На рисунке ниже приведен пример вещания\n",
    "![title](https://www.scipy-lectures.org/_images/numpy_broadcasting.png)"
   ]
  },
  {
   "cell_type": "code",
   "execution_count": 29,
   "metadata": {
    "collapsed": true
   },
   "outputs": [
    {
     "name": "stdout",
     "output_type": "stream",
     "text": [
      "[[ 0  0  0]\n",
      " [10 10 10]\n",
      " [20 20 20]\n",
      " [30 30 30]]\n",
      "[[ 0  1  2]\n",
      " [10 11 12]\n",
      " [20 21 22]\n",
      " [30 31 32]]\n",
      "трюк\n",
      "(4,)\n",
      "(4, 1)\n",
      "[[ 0]\n",
      " [10]\n",
      " [20]\n",
      " [30]]\n",
      "[[ 0  1  2]\n",
      " [10 11 12]\n",
      " [20 21 22]\n",
      " [30 31 32]]\n"
     ]
    }
   ],
   "source": [
    "a = np.tile(np.arange(0, 40, 10), (3, 1)).T\n",
    "print(a)\n",
    "b = np.array([0, 1, 2])\n",
    "print(a + b)\n",
    "# Полезный трюк\n",
    "print(\"трюк\")\n",
    "a = np.arange(0, 40, 10)\n",
    "print(a.shape)\n",
    "a = a[:, np.newaxis]  # adds a new axis -> 2D array\n",
    "print(a.shape)\n",
    "print(a)\n",
    "print(a + b)"
   ]
  },
  {
   "cell_type": "markdown",
   "metadata": {},
   "source": [
    "Также можно использовать множество проблем на основе сетки или сети радиовещания.Например, если мы хотим вычислить расстояние от начало координат точек на сетке 10x10, мы можем сделать так:"
   ]
  },
  {
   "cell_type": "code",
   "execution_count": 30,
   "metadata": {
    "collapsed": true
   },
   "outputs": [
    {
     "data": {
      "text/plain": [
       "array([[0.        , 1.        , 2.        , 3.        , 4.        ],\n",
       "       [1.        , 1.41421356, 2.23606798, 3.16227766, 4.12310563],\n",
       "       [2.        , 2.23606798, 2.82842712, 3.60555128, 4.47213595],\n",
       "       [3.        , 3.16227766, 3.60555128, 4.24264069, 5.        ],\n",
       "       [4.        , 4.12310563, 4.47213595, 5.        , 5.65685425]])"
      ]
     },
     "execution_count": 30,
     "metadata": {},
     "output_type": "execute_result"
    }
   ],
   "source": [
    "x, y = np.arange(5), np.arange(5)[:, np.newaxis]\n",
    "distance = np.sqrt(x ** 2 + y ** 2)\n",
    "distance"
   ]
  },
  {
   "cell_type": "code",
   "execution_count": 31,
   "metadata": {
    "collapsed": true
   },
   "outputs": [
    {
     "ename": "NameError",
     "evalue": "name 'plt' is not defined",
     "output_type": "error",
     "traceback": [
      "\u001b[1;31m---------------------------------------------------------------------------\u001b[0m",
      "\u001b[1;31mNameError\u001b[0m                                 Traceback (most recent call last)",
      "\u001b[1;32m<ipython-input-31-73bf1df69700>\u001b[0m in \u001b[0;36m<module>\u001b[1;34m()\u001b[0m\n\u001b[0;32m      1\u001b[0m \u001b[1;31m# В цвете\u001b[0m\u001b[1;33m\u001b[0m\u001b[1;33m\u001b[0m\u001b[0m\n\u001b[1;32m----> 2\u001b[1;33m \u001b[0mplt\u001b[0m\u001b[1;33m.\u001b[0m\u001b[0mpcolor\u001b[0m\u001b[1;33m(\u001b[0m\u001b[0mdistance\u001b[0m\u001b[1;33m)\u001b[0m\u001b[1;33m\u001b[0m\u001b[0m\n\u001b[0m\u001b[0;32m      3\u001b[0m \u001b[0mplt\u001b[0m\u001b[1;33m.\u001b[0m\u001b[0mcolorbar\u001b[0m\u001b[1;33m(\u001b[0m\u001b[1;33m)\u001b[0m\u001b[1;33m\u001b[0m\u001b[0m\n",
      "\u001b[1;31mNameError\u001b[0m: name 'plt' is not defined"
     ]
    }
   ],
   "source": [
    "# В цвете\n",
    "plt.pcolor(distance)    \n",
    "plt.colorbar() "
   ]
  },
  {
   "cell_type": "markdown",
   "metadata": {},
   "source": [
    "Замечание: numpy.ogrid() функция позволяет непосредственно создавать векторы x и y из предыдущего примера, с двумя значительными измерениями"
   ]
  },
  {
   "cell_type": "code",
   "execution_count": 34,
   "metadata": {
    "collapsed": true
   },
   "outputs": [
    {
     "name": "stdout",
     "output_type": "stream",
     "text": [
      "[[0]\n",
      " [1]\n",
      " [2]\n",
      " [3]\n",
      " [4]] [[0 1 2 3 4]]\n",
      "(5, 1) (1, 5)\n",
      "[[0.         1.         2.         3.         4.        ]\n",
      " [1.         1.41421356 2.23606798 3.16227766 4.12310563]\n",
      " [2.         2.23606798 2.82842712 3.60555128 4.47213595]\n",
      " [3.         3.16227766 3.60555128 4.24264069 5.        ]\n",
      " [4.         4.12310563 4.47213595 5.         5.65685425]]\n"
     ]
    }
   ],
   "source": [
    "x, y = np.ogrid[0:5, 0:5]\n",
    "print(x, y)\n",
    "print(x.shape, y.shape)\n",
    "distance = np.sqrt(x ** 2 + y ** 2)\n",
    "print(distance)"
   ]
  },
  {
   "cell_type": "markdown",
   "metadata": {},
   "source": [
    "### Манипуляция формой массива"
   ]
  },
  {
   "cell_type": "code",
   "execution_count": 37,
   "metadata": {
    "collapsed": true
   },
   "outputs": [
    {
     "name": "stdout",
     "output_type": "stream",
     "text": [
      "Уплощение\n",
      "[1 2 3 4 5 6]\n",
      "[[1 4]\n",
      " [2 5]\n",
      " [3 6]]\n",
      "[1 4 2 5 3 6]\n",
      "Переформирование\n",
      "(2, 3)\n",
      "[[1 2 3]\n",
      " [4 5 6]]\n",
      "[[1 2 3]\n",
      " [4 5 6]]\n",
      "Добавление измерения\n",
      "[1 2 3]\n",
      "[[1]\n",
      " [2]\n",
      " [3]]\n",
      "[[1 2 3]]\n",
      "Перебирание измерений\n",
      "(4, 3, 2)\n",
      "5\n",
      "(3, 2, 4)\n",
      "5\n",
      "Изменение размера\n",
      "None\n",
      "[0 1 2 3 0 0 0 0]\n"
     ]
    },
    {
     "ename": "ValueError",
     "evalue": "cannot resize an array that references or is referenced\nby another array in this way.  Use the resize function",
     "output_type": "error",
     "traceback": [
      "\u001b[1;31m---------------------------------------------------------------------------\u001b[0m",
      "\u001b[1;31mValueError\u001b[0m                                Traceback (most recent call last)",
      "\u001b[1;32m<ipython-input-37-307ac68b31fe>\u001b[0m in \u001b[0;36m<module>\u001b[1;34m()\u001b[0m\n\u001b[0;32m     32\u001b[0m \u001b[0mprint\u001b[0m\u001b[1;33m(\u001b[0m\u001b[0ma\u001b[0m\u001b[1;33m)\u001b[0m\u001b[1;33m\u001b[0m\u001b[0m\n\u001b[0;32m     33\u001b[0m \u001b[0mb\u001b[0m \u001b[1;33m=\u001b[0m \u001b[0ma\u001b[0m\u001b[1;33m\u001b[0m\u001b[0m\n\u001b[1;32m---> 34\u001b[1;33m \u001b[0ma\u001b[0m\u001b[1;33m.\u001b[0m\u001b[0mresize\u001b[0m\u001b[1;33m(\u001b[0m\u001b[1;33m(\u001b[0m\u001b[1;36m4\u001b[0m\u001b[1;33m,\u001b[0m\u001b[1;33m)\u001b[0m\u001b[1;33m)\u001b[0m\u001b[1;33m\u001b[0m\u001b[0m\n\u001b[0m",
      "\u001b[1;31mValueError\u001b[0m: cannot resize an array that references or is referenced\nby another array in this way.  Use the resize function"
     ]
    }
   ],
   "source": [
    "# Уплощение\n",
    "print(\"Уплощение\")\n",
    "a = np.array([[1, 2, 3], [4, 5, 6]])\n",
    "print(a.ravel())\n",
    "print(a.T)\n",
    "print(a.T.ravel())\n",
    "# Переформирование (обратное от уплощение)\n",
    "print(\"Переформирование\")\n",
    "print(a.shape)\n",
    "b = a.ravel()\n",
    "b = b.reshape((2, 3))\n",
    "print(b)\n",
    "print(a.reshape((2, -1))) # unspecified (-1) value is inferred\n",
    "# Добавление измерения\n",
    "print(\"Добавление измерения\")\n",
    "z = np.array([1, 2, 3])\n",
    "print(z)\n",
    "print(z[:, np.newaxis])\n",
    "print(z[np.newaxis, :])\n",
    "# Перебирание измерений\n",
    "print(\"Перебирание измерений\")\n",
    "a = np.arange(4*3*2).reshape(4, 3, 2)\n",
    "print(a.shape)\n",
    "print(a[0, 2, 1])\n",
    "b = a.transpose(1, 2, 0)\n",
    "print(b.shape)\n",
    "print(b[2, 1, 0])\n",
    "# Изменение размера\n",
    "print(\"Изменение размера\")\n",
    "a = np.arange(4)\n",
    "print(a.resize((8,)))\n",
    "print(a)\n",
    "# но при изменении размера, массив не должен упоминаться где то еще\n",
    "# b = a\n",
    "# a.resize((4,)) # произойдет ошибка"
   ]
  },
  {
   "cell_type": "markdown",
   "metadata": {},
   "source": [
    "### Сортировка данных"
   ]
  },
  {
   "cell_type": "code",
   "execution_count": 38,
   "metadata": {
    "collapsed": true
   },
   "outputs": [
    {
     "name": "stdout",
     "output_type": "stream",
     "text": [
      "Сортировка по оси\n",
      "[[3 4 5]\n",
      " [1 1 2]]\n",
      "Сортировка на месте\n",
      "[[3 4 5]\n",
      " [1 1 2]]\n",
      "Сортировка с индексированием\n",
      "[2 3 1 0]\n",
      "[1 2 3 4]\n",
      "Поиск минимумов и максимумов\n",
      "0 2\n"
     ]
    }
   ],
   "source": [
    "# Сортировка по оси\n",
    "print(\"Сортировка по оси\")\n",
    "a = np.array([[4, 3, 5], [1, 2, 1]])\n",
    "b = np.sort(a, axis=1)\n",
    "print(b)\n",
    "# Сортировка на месте\n",
    "print(\"Сортировка на месте\")\n",
    "a.sort(axis=1)\n",
    "print(a)\n",
    "# Сортировка с индексированием\n",
    "print(\"Сортировка с индексированием\")\n",
    "a = np.array([4, 3, 1, 2])\n",
    "j = np.argsort(a)\n",
    "print(j)\n",
    "print(a[j])\n",
    "# Поиск минимумов и максимумов\n",
    "print(\"Поиск минимумов и максимумов\")\n",
    "a = np.array([4, 3, 1, 2])\n",
    "j_max = np.argmax(a)\n",
    "j_min = np.argmin(a)\n",
    "print(j_max, j_min)"
   ]
  },
  {
   "cell_type": "markdown",
   "metadata": {},
   "source": [
    "## Дополнительные операции\n",
    "### Полиномы\n",
    "NumPy также содержит полиномы в различных базах\n",
    "(о полиномах в numpy http://docs.scipy.org/doc/numpy/reference/routines.polynomials.poly1d.html )"
   ]
  },
  {
   "cell_type": "code",
   "execution_count": null,
   "metadata": {},
   "outputs": [],
   "source": [
    "p = np.poly1d([3, 2, -1])\n",
    "print(p(0))\n",
    "print(p.roots)\n",
    "print(p.order)"
   ]
  },
  {
   "cell_type": "code",
   "execution_count": null,
   "metadata": {},
   "outputs": [],
   "source": [
    "x = np.linspace(0, 1, 20)\n",
    "y = np.cos(x) + 0.3*np.random.rand(20)\n",
    "p = np.poly1d(np.polyfit(x, y, 3))\n",
    "t = np.linspace(0, 1, 200)\n",
    "plt.plot(x, y, 'o', t, p(t), '-')   "
   ]
  },
  {
   "cell_type": "markdown",
   "metadata": {},
   "source": [
    "NumPy также имеет более сложный полиномиальный интерфейс, который поддерживает например, основа Чебышева."
   ]
  },
  {
   "cell_type": "code",
   "execution_count": null,
   "metadata": {},
   "outputs": [],
   "source": [
    "p = np.polynomial.Polynomial([-1, 2, 3]) # coefs in different order!\n",
    "print(p(0))\n",
    "print(p.roots())\n",
    "print(p.degree())"
   ]
  },
  {
   "cell_type": "code",
   "execution_count": null,
   "metadata": {},
   "outputs": [],
   "source": [
    "x = np.linspace(-1, 1, 2000)\n",
    "y = np.cos(x) + 0.3*np.random.rand(2000)\n",
    "p = np.polynomial.Chebyshev.fit(x, y, 90)\n",
    "t = np.linspace(-1, 1, 200)\n",
    "plt.plot(x, y, 'r.')   \n",
    "plt.plot(t, p(t), 'k-', lw=3)   "
   ]
  },
  {
   "cell_type": "markdown",
   "metadata": {},
   "source": [
    "### Загрузка файлов данных"
   ]
  },
  {
   "cell_type": "code",
   "execution_count": null,
   "metadata": {},
   "outputs": [],
   "source": [
    "# Текстовый файл\n",
    "# data = np.loadtxt('data/populations.txt')\n",
    "# np.savetxt('pop2.txt', data)\n",
    "# data2 = np.loadtxt('pop2.txt')\n",
    "\n",
    "# Изображение\n",
    "# img = plt.imread('data/elephant.png')\n",
    "# img.shape, img.dtype\n",
    "# plt.imshow(img)     \n",
    "# plt.savefig('plot.png')\n",
    "# plt.imsave('red_elephant.png', img[:,:,0], cmap=plt.cm.gray)"
   ]
  }
 ],
 "metadata": {
  "kernelspec": {
   "display_name": "Python 3",
   "language": "python",
   "name": "python3"
  },
  "language_info": {
   "codemirror_mode": {
    "name": "ipython",
    "version": 3
   },
   "file_extension": ".py",
   "mimetype": "text/x-python",
   "name": "python",
   "nbconvert_exporter": "python",
   "pygments_lexer": "ipython3",
   "version": "3.7.0"
  }
 },
 "nbformat": 4,
 "nbformat_minor": 2
}

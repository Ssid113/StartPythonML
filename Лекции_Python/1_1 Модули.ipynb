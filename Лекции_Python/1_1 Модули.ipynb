{
 "cells": [
  {
   "cell_type": "markdown",
   "metadata": {},
   "source": [
    "## Понятие модуля\n",
    "В соответствии с модульным подходом к программированию большая задача разбивается на несколько более мелких, каждую из которых (в идеале) решает отдельный модуль. В разных методологиях даются различные ограничения на размер модулей, однако при построении модульной структуры программы важнее составить такую композицию модулей, которая позволила бы свести к минимуму связи между ними. Набор классов и функций, имеющий множество связей между своими элементами, было бы логично расположить в одном модуле. Есть и еще одно полезное замечание: модули должно быть легче использовать, чем написать заново. Это значит, что модуль должен иметь удобный интерфейс: набор функций, классов и констант, который он предлагает своим пользователям.\n",
    "\n",
    "В языке Python набор модулей, посвященных одной проблеме, можно поместить в пакет. Хорошим примером такого пакета является пакет xml, в котором собраны модули для различных аспектов обработки XML.\n",
    "\n",
    "В программе на Python модуль представлен объектом-модулем, атрибутами которого являются имена, определенные в модуле:\n",
    "\n",
    "> import datetime\n",
    "\n",
    "> d1 = datetime.date(2004, 11, 20)\n",
    "\n",
    "В данном примере импортируется модуль datetime. В результате работы оператора import в текущем пространстве имен появляется объект с именем datetime.\n",
    "\n",
    "Модули для использования в программах на языке Python по своему происхождению делятся на обычные (написанные на Python) и модули расширения, написанные на другом языке программирования (как правило, на C). С точки зрения пользователя они могут отличаться разве что быстродействием. Бывает, что в стандартной библиотеке есть два варианта модуля: на Python и на C. Таковы, например, модули pickle и cPickle. Обычно модули на Python в чем-то гибче, чем модули расширения.\n",
    "\n",
    "## Модули в Python\n",
    "Модуль оформляется в виде отдельного файла с исходным кодом. Стандартные модули находятся в каталоге, где их может найти соответствующий интерпретатор языка. Пути к каталогам, в которых Python ищет модули, можно увидеть в значении переменной sys.path:"
   ]
  },
  {
   "cell_type": "code",
   "execution_count": 2,
   "metadata": {
    "collapsed": true
   },
   "outputs": [
    {
     "data": {
      "text/plain": [
       "['',\n",
       " 'C:\\\\Users\\\\Александр\\\\Python_ML',\n",
       " 'c:\\\\python37-32\\\\python37.zip',\n",
       " 'c:\\\\python37-32\\\\DLLs',\n",
       " 'c:\\\\python37-32\\\\lib',\n",
       " 'c:\\\\python37-32',\n",
       " 'c:\\\\python37-32\\\\lib\\\\site-packages',\n",
       " 'c:\\\\python37-32\\\\lib\\\\site-packages\\\\IPython\\\\extensions',\n",
       " 'C:\\\\Users\\\\Александр\\\\.ipython']"
      ]
     },
     "execution_count": 2,
     "metadata": {},
     "output_type": "execute_result"
    }
   ],
   "source": [
    "import sys\n",
    "sys.path"
   ]
  },
  {
   "cell_type": "markdown",
   "metadata": {},
   "source": [
    "В последних версиях Python модули можно помещать и в zip-архивы для более компактного хранения (по аналогии с jar-архивами в Java).\n",
    "\n",
    "При запуске программы поиск модулей также идет в текущем каталоге. (Нужно внимательно называть собственные модули, чтобы не было конфликта имен со стандартными или дополнительно установленными модулями.)\n",
    "\n",
    "Подключение модуля к программе на Python осуществляется с помощью оператора import. У него есть две формы: import и from-import:\n",
    "\n",
    "> import os\n",
    "\n",
    "> import numpy as np\n",
    "\n",
    "> from sys import argv, environ\n",
    "\n",
    "> from string import *\n",
    "\n",
    "С помощью первой формы с текущей областью видимости связывается только имя, ссылающееся на объект модуля, а при использовании второй - указанные имена (или все имена, если применена * ) объектов модуля связываются с текущей областью видимости. При импорте можно изменить имя, с которым объект будет связан, с помощью as.В первом случае пространство имен модуля остается в отдельном имени и для доступа к конкретному имени из модуля нужно применять точку. Во втором случае имена используются так, как если бы они были определены в текущем модуле:\n",
    "\n",
    "> os.system(\"dir\")\n",
    "\n",
    "> digits = re.compile(\"\\d+\")\n",
    "\n",
    "> print argv[0], environ"
   ]
  },
  {
   "cell_type": "markdown",
   "metadata": {},
   "source": [
    "## Встроенные функции\n",
    "В среде Python без дополнительных операций импорта доступно более сотни встроенных объектов, в основном, функций и исключений. Для удобства функции условно разделены по категориям:\n",
    "\n",
    "1. Функции преобразования типов и классы: str, repr, int, list, tuple, long, float, complex, dict, super, file, bool, object\n",
    "2. Числовые и строковые функции: abs, divmod, ord, pow, len, chr, unichr, hex, oct, cmp, round, unicode\n",
    "3. Функции обработки данных: apply, map, filter, reduce, zip, range, xrange, max, min, iter, enumerate, sum\n",
    "4. Функции определения свойств: hash, id, callable, issubclass, isinstance, type\n",
    "5. Функции для доступа к внутренним структурам: locals, globals, vars, intern, dir\n",
    "6. Функции компиляции и исполнения: eval, execfile, reload, __import__, compile\n",
    "7. Функции ввода-вывода: input, raw_input, open\n",
    "8. Функции для работы с атрибутами: getattr, setattr, delattr, hasattr\n",
    "9. Функции-\"украшатели\" методов классов: staticmethod, classmethod, property"
   ]
  },
  {
   "cell_type": "code",
   "execution_count": 17,
   "metadata": {
    "collapsed": true
   },
   "outputs": [
    {
     "name": "stdout",
     "output_type": "stream",
     "text": [
      "Help on built-in function getattr in module builtins:\n",
      "\n",
      "getattr(...)\n",
      "    getattr(object, name[, default]) -> value\n",
      "    \n",
      "    Get a named attribute from an object; getattr(x, 'y') is equivalent to x.y.\n",
      "    When a default argument is given, it is returned when the attribute doesn't\n",
      "    exist; without it, an exception is raised in that case.\n",
      "\n"
     ]
    }
   ],
   "source": [
    "help(getattr)"
   ]
  },
  {
   "cell_type": "markdown",
   "metadata": {},
   "source": [
    "## Обзор стандартной библиотеки\n",
    "Модули стандартной библиотеки можно условно разбить на группы по тематике.\n",
    "\n",
    "1. Сервисы периода выполнения. Модули: sys, atexit, copy, traceback, math, cmath, random, time, calendar, datetime, sets, array, struct, itertools, locale, gettext.\n",
    "2. Поддержка цикла разработки. Модули: pdb, hotshot, profile, unittest, pydoc. Пакеты docutils, distutils.\n",
    "3. Взаимодействие с ОС (файлы, процессы). Модули: os, os.path, getopt, glob, popen2, shutil, select, signal, stat, tempfile.\n",
    "4. Обработка текстов. Модули: string, re, StringIO, codecs, difflib, mmap, sgmllib, htmllib, htmlentitydefs. Пакет xml.\n",
    "5. Многопоточные вычисления. Модули: threading, thread, Queue.\n",
    "6. Хранение данных. Архивация. Модули: pickle, shelve, anydbm, gdbm, gzip, zlib, zipfile, bz2, csv, tarfile.\n",
    "7. Платформо-зависимые модули. Для UNIX: commands, pwd, grp, fcntl, resource, termios, readline, rlcompleter. Для Windows: msvcrt, _winreg, winsound.\n",
    "8. Поддержка сети. Протоколы Интернет. Модули: cgi, Cookie, urllib, urlparse, httplib, smtplib, poplib, telnetlib, socket, asyncore. Примеры серверов: SocketServer, BaseHTTPServer, xmlrpclib, asynchat.\n",
    "9. Поддержка Internet. Форматы данных. Модули: quopri, uu, base64, binhex, binascii, rfc822, mimetools, MimeWriter, multifile, mailbox. Пакет email.\n",
    "10. Python о себе. Модули: parser, symbol, token, keyword, inspect, tokenize, pyclbr, py_compile, compileall, dis, compiler.\n",
    "11. Графический интерфейс. Модуль Tkinter."
   ]
  },
  {
   "cell_type": "markdown",
   "metadata": {},
   "source": [
    "## Основные встроенные модули\n",
    "### Модуль random\n",
    "Модуль random управляет генерацией случайных чисел. Его основные функции:\n",
    "\n",
    "random(): генерирует случайное число от 0.0 до 1.0\n",
    "randint(): возвращает случайное число из определенного диапазона\n",
    "randrange(): возвращает случайное число из определенного набора чисел\n",
    "shuffle(): перемешивает список\n",
    "choice(): возвращает случайный элемент списка\n",
    "\n",
    "Функция random() возвращает случайное число с плавающей точкой в промежутке от 0.0 до 1.0. Если же нам необходимо число из большего диапазона, скажем от 0 до 100, то мы можем соответственно умножить результат функции random на 100."
   ]
  },
  {
   "cell_type": "code",
   "execution_count": 1,
   "metadata": {
    "collapsed": true
   },
   "outputs": [
    {
     "name": "stdout",
     "output_type": "stream",
     "text": [
      "0.07151167242765444\n",
      "21.843141501921714\n"
     ]
    }
   ],
   "source": [
    "import random\n",
    " \n",
    "number = random.random()  # значение от 0.0 до 1.0\n",
    "print(number)\n",
    "number = random.random() * 100  # значение от 0.0 до 100.0\n",
    "print(number)"
   ]
  },
  {
   "cell_type": "markdown",
   "metadata": {},
   "source": [
    "Функция randint(min, max) возвращает случайное целое число в промежутке между двумя значениями min и max."
   ]
  },
  {
   "cell_type": "code",
   "execution_count": 3,
   "metadata": {
    "collapsed": true
   },
   "outputs": [
    {
     "name": "stdout",
     "output_type": "stream",
     "text": [
      "24\n"
     ]
    }
   ],
   "source": [
    "import random\n",
    " \n",
    "number = random.randint(20, 35)  # значение от 20 до 35\n",
    "print(number)"
   ]
  },
  {
   "cell_type": "markdown",
   "metadata": {},
   "source": [
    "Функция randrange() возвращает случайное целое число из определенного набора чисел. Она имеет три формы:\n",
    "\n",
    "randrange(stop): в качестве набора чисел, из которых происходит извлечение случайного значения, будет использоваться диапазон от 0 до числа stop\n",
    "\n",
    "randrange(start, stop): набор чисел представляет диапазон от числа start до числа stop\n",
    "\n",
    "randrange(start, stop, step): набор чисел представляет диапазон от числа start до числа stop, при этом каждое число в диапазоне отличается от предыдущего на шаг step"
   ]
  },
  {
   "cell_type": "code",
   "execution_count": null,
   "metadata": {},
   "outputs": [],
   "source": [
    "import random\n",
    " \n",
    "number = random.randrange(10)  # значение от 0 до 10\n",
    "print(number)\n",
    "number = random.randrange(2, 10)  # значение в диапазоне 2, 3, 4, 5, 6, 7, 8, 9, 10\n",
    "print(number)\n",
    "number = random.randrange(2, 10, 2)  # значение в диапазоне 2, 4, 6, 8, 10\n",
    "print(number)"
   ]
  },
  {
   "cell_type": "markdown",
   "metadata": {},
   "source": [
    "#### Работа со списком\n",
    "Для работы со списками в модуле random определены две функции: функция shuffle() перемешивает список случайным образом, а функция choice() возвращает один случайный элемент из списка:"
   ]
  },
  {
   "cell_type": "code",
   "execution_count": 4,
   "metadata": {
    "collapsed": true
   },
   "outputs": [
    {
     "name": "stdout",
     "output_type": "stream",
     "text": [
      "[6, 2, 3, 5, 7, 8, 4, 1]\n",
      "1\n"
     ]
    }
   ],
   "source": [
    "import random\n",
    "\n",
    "numbers = [1, 2, 3, 4, 5, 6, 7, 8]\n",
    "random.shuffle(numbers)\n",
    "print(numbers)     # 1\n",
    "random_number = random.choice(numbers)\n",
    "print(random_number)"
   ]
  },
  {
   "cell_type": "markdown",
   "metadata": {},
   "source": [
    "### Модуль math\n",
    "Встроенный модуль math в Python предоставляет набор функций для выполнения математических, тригонометрических и логарифмических операций. Некоторые из основных функций модуля:\n",
    "\n",
    "- pow(num, power): возведение числа num в степень power\n",
    "- sqrt(num): квадратный корень числа num\n",
    "- ceil(num): округление числа до ближайшего наибольшего целого\n",
    "- floor(num): округление числа до ближайшего наименьшего целого\n",
    "- factorial(num): факториал числа\n",
    "- degrees(rad): перевод из радиан в градусы\n",
    "- radians(grad): перевод из градусов в радианы\n",
    "- cos(rad): косинус угла в радианах\n",
    "- sin(rad): синус угла в радианах\n",
    "- tan(rad): тангенс угла в радианах\n",
    "- acos(rad): арккосинус угла в радианах\n",
    "- asin(rad): арксинус угла в радианах\n",
    "- atan(rad): арктангенс угла в радианах\n",
    "- log(n, base): логарифм числа n по основанию base\n",
    "- log10(n): десятичный логарифм числа n\n",
    "\n",
    "Пример применения некоторых функций:"
   ]
  },
  {
   "cell_type": "code",
   "execution_count": 5,
   "metadata": {
    "collapsed": true
   },
   "outputs": [
    {
     "name": "stdout",
     "output_type": "stream",
     "text": [
      "8.0\n",
      "8\n",
      "3.0\n",
      "5\n",
      "4\n",
      "179.9998479605043\n",
      "3.141592653589793\n",
      "0.5000000000000001\n",
      "1.0\n",
      "0.0\n",
      "3.0\n",
      "2.0\n"
     ]
    }
   ],
   "source": [
    "import math\n",
    " \n",
    "# возведение числа 2 в степень 3\n",
    "n1 = math.pow(2, 3)\n",
    "print(n1)  # 8\n",
    " \n",
    "# ту же самую операцию можно выполнить так\n",
    "n2 = 2**3\n",
    "print(n2)\n",
    " \n",
    "# возведение в квадрат\n",
    "print(math.sqrt(9))  # 3\n",
    " \n",
    "# ближайшее наибольшее целое число\n",
    "print(math.ceil(4.56))  # 5\n",
    " \n",
    "# ближайшее наименьшее целое число\n",
    "print(math.floor(4.56))  # 4\n",
    " \n",
    "# перевод из радиан в градусы\n",
    "print(math.degrees(3.14159))  # 180\n",
    " \n",
    "# перевод из градусов в радианы\n",
    "print(math.radians(180))   # 3.1415.....\n",
    "# косинус\n",
    "print(math.cos(math.radians(60)))  # 0.5\n",
    "# cинус\n",
    "print(math.sin(math.radians(90)))   # 1.0\n",
    "# тангенс\n",
    "print(math.tan(math.radians(0)))    # 0.0\n",
    " \n",
    "print(math.log(8,2))    # 3.0\n",
    "print(math.log10(100))    # 2.0"
   ]
  },
  {
   "cell_type": "markdown",
   "metadata": {},
   "source": [
    "Также модуль math предоставляет ряд встроенных констант, такие как PI и E:"
   ]
  },
  {
   "cell_type": "code",
   "execution_count": null,
   "metadata": {},
   "outputs": [],
   "source": [
    "import math\n",
    "radius = 30\n",
    "# площадь круга с радиусом 30\n",
    "area = math.pi * math.pow(radius, 2)\n",
    "print(area)\n",
    " \n",
    "# натуральный логарифм числа 10\n",
    "number = math.log(10, math.e)\n",
    "print(number)"
   ]
  },
  {
   "cell_type": "markdown",
   "metadata": {},
   "source": [
    "### Модуль locale\n",
    "При форматировании чисел Python по умолчанию использует англосаксонскую систему, при которой разряды целого числа отделяются друг от друга запятыми, а дробная часть от целой отделяется точкой. В континентальной Европе, например, используется другая система, при которой разряды разделяются точкой, а дробная и целая часть - запятой:"
   ]
  },
  {
   "cell_type": "code",
   "execution_count": null,
   "metadata": {},
   "outputs": [],
   "source": [
    "# англосаксонская система\n",
    "1,234.567\n",
    "# европейская система\n",
    "1.234,567"
   ]
  },
  {
   "cell_type": "markdown",
   "metadata": {},
   "source": [
    "И для решения проблемы форматирования под определенную культуру в Python имеется встроенный модуль locale.\n",
    "\n",
    "Для установки локальной культуры в модуле locale определена функция setlocale(). Она принимает два параметра:"
   ]
  },
  {
   "cell_type": "code",
   "execution_count": 10,
   "metadata": {
    "collapsed": true
   },
   "outputs": [
    {
     "ename": "NameError",
     "evalue": "name 'setlocale' is not defined",
     "output_type": "error",
     "traceback": [
      "\u001b[1;31m---------------------------------------------------------------------------\u001b[0m",
      "\u001b[1;31mNameError\u001b[0m                                 Traceback (most recent call last)",
      "\u001b[1;32m<ipython-input-10-99377db08f49>\u001b[0m in \u001b[0;36m<module>\u001b[1;34m()\u001b[0m\n\u001b[0;32m      2\u001b[0m \u001b[1;33m\u001b[0m\u001b[0m\n\u001b[0;32m      3\u001b[0m \u001b[1;33m\u001b[0m\u001b[0m\n\u001b[1;32m----> 4\u001b[1;33m \u001b[0msetlocale\u001b[0m\u001b[1;33m(\u001b[0m\u001b[0mcategory\u001b[0m\u001b[1;33m,\u001b[0m \u001b[0mlocale\u001b[0m\u001b[1;33m)\u001b[0m\u001b[1;33m\u001b[0m\u001b[0m\n\u001b[0m",
      "\u001b[1;31mNameError\u001b[0m: name 'setlocale' is not defined"
     ]
    }
   ],
   "source": [
    "import locale\n",
    "\n",
    "locale.setlocale(category, locale)"
   ]
  },
  {
   "cell_type": "markdown",
   "metadata": {},
   "source": [
    "Первый параметр указывает на категорию, к которой применяется функция - к числам, валютам или и числам, и валютам. В качестве значения для параметра мы можем передавать одну из следующих констант:\n",
    "\n",
    "LC_ALL: применяет локализацию ко всем категориям - к форматированию чисел, валют, дат и т.д.\n",
    "\n",
    "LC_NUMERIC: применяет локализацию к числам\n",
    "\n",
    "LC_MONETARY: применяет локализацию к валютам\n",
    "\n",
    "LC_TIME: применяет локализацию к датам и времени\n",
    "\n",
    "LC_CTYPE: применяет локализацию при переводе символов в верхний или нижний регистр\n",
    "\n",
    "LC_COLLIATE: применяет локаль при сравнении строк\n",
    "\n",
    "Второй параметр функции setlocale указывает на локальную культуру, которую надо использовать. На ОС Windows можно использовать код станы по ISO из двух символов, например, для США - \"us\", для Германии - \"de\", для России - \"ru\". Но на MacOS необходимо указывать код языка и код страны, например, для английского в США - \"en_US\", для немецкого в Германии - \"de_DE\", для русского в России - \"ru_RU\". По умолчанию фактически используется культура \"en_US\".\n",
    "\n",
    "Непосредственно для форматирования чисел и валют модуль locale предоставляет две функции:\n",
    "currency(num): форматирует валюту\n",
    "format(str, num): подставляет число num вместо плейсхолдера в строку str\n",
    "\n",
    "Применяются следующие плейсхолдеры:\n",
    "d: для целых чисел\n",
    "f: для чисел с плавающей точкой\n",
    "e: для экспоненциальной записи чисел\n",
    "\n",
    "Перед каждым плейсхолдером ставится знак процента %, например:\n",
    "\"%d\"\n",
    "\n",
    "При выводе дробных чисел перед плейсхолдером после точки можно указать, сколько знаков в дробной части должно отображаться:\n",
    "%.2f        # два знака в дробной части\n",
    "\n",
    "Применим локализацию чисел и валют в немецкой культуре:"
   ]
  },
  {
   "cell_type": "code",
   "execution_count": 18,
   "metadata": {
    "collapsed": true
   },
   "outputs": [
    {
     "name": "stdout",
     "output_type": "stream",
     "text": [
      "12345,678900\n",
      "12345,68\n",
      "12345\n",
      "1,234568e+04\n",
      "234,68 €\n"
     ]
    },
    {
     "name": "stderr",
     "output_type": "stream",
     "text": [
      "c:\\python37-32\\lib\\site-packages\\ipykernel_launcher.py:16: DeprecationWarning: This method will be removed in a future version of Python. Use 'locale.format_string()' instead.\n",
      "  app.launch_new_instance()\n"
     ]
    }
   ],
   "source": [
    "import locale\n",
    " \n",
    "locale.setlocale(locale.LC_ALL, \"de\")        # для  Windows\n",
    "# locale.setlocale(locale.LC_ALL, \"de_DE\")   # для MacOS\n",
    " \n",
    "number = 12345.6789\n",
    "formatted = locale.format_string(\"%f\", number)\n",
    "print(formatted)    # 12345,678900\n",
    " \n",
    "formatted = locale.format_string(\"%.2f\", number)\n",
    "print(formatted)    # 12345,68\n",
    " \n",
    "formatted = locale.format_string(\"%d\", number)\n",
    "print(formatted)    # 12345\n",
    " \n",
    "formatted = locale.format(\"%e\", number)\n",
    "print(formatted)    # 1,234568e+04\n",
    " \n",
    "money = 234.678\n",
    "formatted = locale.currency(money)\n",
    "print(formatted)    # 234,68 €"
   ]
  },
  {
   "cell_type": "markdown",
   "metadata": {},
   "source": [
    "Если вместо конкретного кода в качестве второго параметра передается пустая строка, то Python будет использовать культуру, которая применяется на текущей рабочей машине. А с помощью функции getlocale() можно получить эту культуру:"
   ]
  },
  {
   "cell_type": "code",
   "execution_count": 20,
   "metadata": {
    "collapsed": true
   },
   "outputs": [
    {
     "name": "stdout",
     "output_type": "stream",
     "text": [
      "12345,68\n",
      "('Russian_Russia', '1251')\n"
     ]
    }
   ],
   "source": [
    "import locale\n",
    " \n",
    "locale.setlocale(locale.LC_ALL, \"\")\n",
    " \n",
    "number = 12345.6789\n",
    "formatted = locale.format_string(\"%.02f\", number)\n",
    "print(formatted)    # 12345,68\n",
    "print(locale.getlocale())   # ('Russian_Russia', '1251')"
   ]
  },
  {
   "cell_type": "markdown",
   "metadata": {},
   "source": [
    "### Модуль decimal\n",
    "При работе с числами с плавающей точкой (то есть float) мы сталкиваемся с тем, что в результате вычислений мы получаем не совсем верный результат:"
   ]
  },
  {
   "cell_type": "code",
   "execution_count": 21,
   "metadata": {
    "collapsed": true
   },
   "outputs": [
    {
     "name": "stdout",
     "output_type": "stream",
     "text": [
      "0.30000000000000004\n"
     ]
    }
   ],
   "source": [
    "number = 0.1 + 0.1 + 0.1\n",
    "print(number)"
   ]
  },
  {
   "cell_type": "markdown",
   "metadata": {},
   "source": [
    "Проблему может решить использование функции round(), которая округлит число. Однако есть и другой способ, который заключается в использовании встроенного модуля decimal.\n",
    "\n",
    "Ключевым компонентом для работы с числами в этом модуле является класс Decimal. Для его применения нам надо создать его объект с помощью конструктора. В конструктор передается строковое значение, которое представляет число:"
   ]
  },
  {
   "cell_type": "code",
   "execution_count": 24,
   "metadata": {
    "collapsed": true
   },
   "outputs": [
    {
     "name": "stdout",
     "output_type": "stream",
     "text": [
      "0.3\n"
     ]
    }
   ],
   "source": [
    "from decimal import Decimal\n",
    " \n",
    "number = Decimal(\"0.1\")\n",
    "number = number + number + number\n",
    "print(number)"
   ]
  },
  {
   "cell_type": "markdown",
   "metadata": {},
   "source": [
    "В операциях с Decimal можно использовать целые числа:"
   ]
  },
  {
   "cell_type": "code",
   "execution_count": 25,
   "metadata": {},
   "outputs": [],
   "source": [
    "number = Decimal(\"0.1\")\n",
    "number = number + 2"
   ]
  },
  {
   "cell_type": "markdown",
   "metadata": {},
   "source": [
    "Однако нельзя смешивать в операциях дробные числа float и Decimal:"
   ]
  },
  {
   "cell_type": "code",
   "execution_count": 26,
   "metadata": {
    "collapsed": true
   },
   "outputs": [
    {
     "ename": "TypeError",
     "evalue": "unsupported operand type(s) for +: 'decimal.Decimal' and 'float'",
     "output_type": "error",
     "traceback": [
      "\u001b[1;31m---------------------------------------------------------------------------\u001b[0m",
      "\u001b[1;31mTypeError\u001b[0m                                 Traceback (most recent call last)",
      "\u001b[1;32m<ipython-input-26-28c6a22b3825>\u001b[0m in \u001b[0;36m<module>\u001b[1;34m()\u001b[0m\n\u001b[0;32m      1\u001b[0m \u001b[0mnumber\u001b[0m \u001b[1;33m=\u001b[0m \u001b[0mDecimal\u001b[0m\u001b[1;33m(\u001b[0m\u001b[1;34m\"0.1\"\u001b[0m\u001b[1;33m)\u001b[0m\u001b[1;33m\u001b[0m\u001b[0m\n\u001b[1;32m----> 2\u001b[1;33m \u001b[0mnumber\u001b[0m \u001b[1;33m=\u001b[0m \u001b[0mnumber\u001b[0m \u001b[1;33m+\u001b[0m \u001b[1;36m0.1\u001b[0m   \u001b[1;31m# здесь возникнет ошибка\u001b[0m\u001b[1;33m\u001b[0m\u001b[0m\n\u001b[0m",
      "\u001b[1;31mTypeError\u001b[0m: unsupported operand type(s) for +: 'decimal.Decimal' and 'float'"
     ]
    }
   ],
   "source": [
    "number = Decimal(\"0.1\")\n",
    "number = number + 0.1   # здесь возникнет ошибка"
   ]
  },
  {
   "cell_type": "markdown",
   "metadata": {},
   "source": [
    "С помощью дополнительных знаков мы можем определить, сколько будет символов в дробной части числа:"
   ]
  },
  {
   "cell_type": "code",
   "execution_count": null,
   "metadata": {},
   "outputs": [],
   "source": [
    "number = Decimal(\"0.10\")\n",
    "number = 3 * number\n",
    "print(number)       # 0.30"
   ]
  },
  {
   "cell_type": "markdown",
   "metadata": {},
   "source": [
    "Строка \"0.10\" определяет два знака в дробной части, даже если последние символы будут представлять ноль. Соответственно \"0.100\" представляет три знака в дробной части.\n",
    "\n",
    "Округление чисел\n",
    "Объекты Decimal имеют метод quantize(), который позволяет округлять числа. В этот метод в качестве первого аргумента передается также объект Decimal, который указывает формат округления числа:"
   ]
  },
  {
   "cell_type": "code",
   "execution_count": 27,
   "metadata": {
    "collapsed": true
   },
   "outputs": [
    {
     "name": "stdout",
     "output_type": "stream",
     "text": [
      "0.44\n",
      "0.56\n",
      "1.00\n"
     ]
    }
   ],
   "source": [
    "from decimal import Decimal\n",
    " \n",
    "number = Decimal(\"0.444\")\n",
    "number = number.quantize(Decimal(\"1.00\"))\n",
    "print(number)       # 0.44\n",
    " \n",
    "number = Decimal(\"0.555678\")\n",
    "print(number.quantize(Decimal(\"1.00\")))       # 0.56\n",
    " \n",
    "number = Decimal(\"0.999\")\n",
    "print(number.quantize(Decimal(\"1.00\")))       # 1.00"
   ]
  },
  {
   "cell_type": "markdown",
   "metadata": {},
   "source": [
    "Используемая строка \"1.00\" указывает, что округление будет идти до двух знаков в дробной части.\n",
    "\n",
    "По умолчанию округление описывается константой ROUND_HALF_EVEN, при котором число округляется в большую сторону, если оно нечетное, а предыдущее перед ним больше 4. Например:"
   ]
  },
  {
   "cell_type": "code",
   "execution_count": 28,
   "metadata": {
    "collapsed": true
   },
   "outputs": [
    {
     "name": "stdout",
     "output_type": "stream",
     "text": [
      "10.02\n",
      "10.04\n"
     ]
    }
   ],
   "source": [
    "from decimal import Decimal, ROUND_HALF_EVEN\n",
    "\n",
    "number = Decimal(\"10.025\")\n",
    "print(number.quantize(Decimal(\"1.00\"), ROUND_HALF_EVEN))       # 10.02\n",
    " \n",
    "number = Decimal(\"10.035\")\n",
    "print(number.quantize(Decimal(\"1.00\"), ROUND_HALF_EVEN))       # 10.04"
   ]
  },
  {
   "cell_type": "markdown",
   "metadata": {},
   "source": [
    "тратегия округления передается в качестве второго параметра в quantize.\n",
    "\n",
    "Строка \"1.00\" означает, что округление будет идти до двух чисел в дробной части. Но в первом случае \"10.025\" - вторым знаком идет 2 - четное число, поэтому, несмотря на то, что следующее число 5, двойка не округляется до тройки.\n",
    "\n",
    "Во втором случае \"10.035\" - вторым знаком идет 3 - нечетное число, поэтому оно округляется до 4.\n",
    "\n",
    "Данное поведение при округлении, возможно, не всем покажется желательным, и в этом случае его можно переопределить, использовав одну из следующих констант:\n",
    "\n",
    "- ROUND_HALF_UP: округляет число в сторону повышения, если после него идет число 5 или выше\n",
    "\n",
    "- ROUND_HALF_DOWN: округляет число в сторону повышения, если после него идет число больше 5"
   ]
  },
  {
   "cell_type": "code",
   "execution_count": null,
   "metadata": {},
   "outputs": [],
   "source": [
    "number = Decimal(\"10.026\")\n",
    "print(number.quantize(Decimal(\"1.00\"), ROUND_HALF_DOWN))       # 10.03\n",
    " \n",
    "number = Decimal(\"10.025\")\n",
    "print(number.quantize(Decimal(\"1.00\"), ROUND_HALF_DOWN))       # 10.02"
   ]
  },
  {
   "cell_type": "markdown",
   "metadata": {},
   "source": [
    "- ROUND_05UP: округляет только 0 до единицы, если после него идет 5"
   ]
  },
  {
   "cell_type": "code",
   "execution_count": null,
   "metadata": {},
   "outputs": [],
   "source": [
    "number = Decimal(\"10.005\")\n",
    "print(number.quantize(Decimal(\"1.00\"), ROUND_05UP))       # 10.01\n",
    " \n",
    "number = Decimal(\"10.025\")\n",
    "print(number.quantize(Decimal(\"1.00\"), ROUND_05UP))       # 10.02"
   ]
  },
  {
   "cell_type": "markdown",
   "metadata": {},
   "source": [
    "- ROUND_CEILING: округляет число в большую сторону вне зависимости от того, какое число идет после него"
   ]
  },
  {
   "cell_type": "code",
   "execution_count": null,
   "metadata": {},
   "outputs": [],
   "source": [
    "number = Decimal(\"10.021\")\n",
    "print(number.quantize(Decimal(\"1.00\"), ROUND_CEILING))       # 10.03\n",
    " \n",
    "number = Decimal(\"10.025\")\n",
    "print(number.quantize(Decimal(\"1.00\"), ROUND_CEILING))       # 10.03"
   ]
  },
  {
   "cell_type": "markdown",
   "metadata": {},
   "source": [
    "- ROUND_FLOOR: не округляет число вне зависимости от того, какое число идет после него"
   ]
  },
  {
   "cell_type": "code",
   "execution_count": null,
   "metadata": {},
   "outputs": [],
   "source": [
    "number = Decimal(\"10.021\")\n",
    "print(number.quantize(Decimal(\"1.00\"), ROUND_FLOOR))       # 10.02\n",
    " \n",
    "number = Decimal(\"10.025\")\n",
    "print(number.quantize(Decimal(\"1.00\"), ROUND_FLOOR))       # 10.02"
   ]
  },
  {
   "cell_type": "markdown",
   "metadata": {},
   "source": [
    "## Популярные модули для ML\n",
    "Базовые:\n",
    "- NumPy - библиотека для работы с массивами.\n",
    "- Matplotlib - библиотека для отображения данных.\n",
    "- Pandas - библиотека для анализа данных.\n",
    "\n",
    "Продвинутые:\n",
    "- SciPy - расширение для NumPY для работы с матрицами и векторами.\n",
    "- Seaborn - обёртка над matplotlib.\n",
    "- Scikit-learn - библиотека с реализоваными основными методами машинного обучения.\n",
    "- OpenCV - библиотека для работы  области обработки изображений и компьютерного зрения.\n",
    "- Theano - библиотека численного вычисления в Python. (Способна к параллельным вычислениям)\n",
    "- Keras - нейронные сети и их обучение.\n",
    "\n",
    "Сложные:\n",
    "- TensorFlow - библиотека для создания нейронных сетей.\n",
    "- Caffe - нструмент для анализа мультимедийных данных.\n",
    "- Pyevolve - реализация наиболее распространненых генетическх алгоритмов.\n",
    "- CatBoost - реализует механизм глубокого обучения через градиентный бустинг. (Умеет находить котиков)"
   ]
  },
  {
   "cell_type": "code",
   "execution_count": null,
   "metadata": {},
   "outputs": [],
   "source": []
  }
 ],
 "metadata": {
  "kernelspec": {
   "display_name": "Python 3",
   "language": "python",
   "name": "python3"
  },
  "language_info": {
   "codemirror_mode": {
    "name": "ipython",
    "version": 3
   },
   "file_extension": ".py",
   "mimetype": "text/x-python",
   "name": "python",
   "nbconvert_exporter": "python",
   "pygments_lexer": "ipython3",
   "version": "3.7.0"
  }
 },
 "nbformat": 4,
 "nbformat_minor": 2
}

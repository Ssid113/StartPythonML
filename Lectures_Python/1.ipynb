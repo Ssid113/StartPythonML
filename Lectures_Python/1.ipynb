{
 "cells": [
  {
   "cell_type": "markdown",
   "metadata": {},
   "source": [
    "# Hello, Python!\n",
    "    Python - интерпретируемый, объектно-ориентированный высокоуровневый язык программирования с динамической семантикой. Встроенные высокоуровневые структуры данных в сочетании с динамической типизацией и связыванием делают язык привлекательным для быстрой разработки приложений (RAD, Rapid Application Development). Кроме того, его можно использовать в качестве сценарного языка для связи программных компонентов. Синтаксис Python прост в изучении, в нем придается особое значение читаемости кода, а это сокращает затраты на сопровождение программных продуктов. Python поддерживает модули и пакеты, поощряя модульность и повторное использование кода. Интерпретатор Python и большая стандартная библиотека доступны бесплатно в виде исходных и исполняемых кодов для всех основных платформ и могут свободно распространяться.\n",
    "    Язык Python поддерживает несколько парадигм программирования: императивное (процедурный, структурный, модульный подходы), объектно-ориентированное и функциональное программирование. \n",
    "\n",
    "> Так же у языка Python есть официальный стиль оформления кода с которым можно ознакомится тут: https://www.python.org/dev/peps/.\n",
    "\n",
    "    В Python важны отступы (вместо скобок как в других ЯП), поэтому все операторы, входящие в последовательность действий, должны иметь один и тот же отступ.\n",
    "\n",
    "### Ниже разберем простой пример:"
   ]
  },
  {
   "cell_type": "code",
   "execution_count": 94,
   "metadata": {
    "collapsed": true
   },
   "outputs": [
    {
     "name": "stdout",
     "output_type": "stream",
     "text": [
      "0\n",
      "But I don't want ANY spam!\n",
      "Spam Spam Spam Spam Spam Spam Spam Spam \n",
      "Help on class int in module builtins:\n",
      "\n",
      "class int(object)\n",
      " |  int([x]) -> integer\n",
      " |  int(x, base=10) -> integer\n",
      " |  \n",
      " |  Convert a number or string to an integer, or return 0 if no arguments\n",
      " |  are given.  If x is a number, return x.__int__().  For floating point\n",
      " |  numbers, this truncates towards zero.\n",
      " |  \n",
      " |  If x is not a number or if base is given, then x must be a string,\n",
      " |  bytes, or bytearray instance representing an integer literal in the\n",
      " |  given base.  The literal can be preceded by '+' or '-' and be surrounded\n",
      " |  by whitespace.  The base defaults to 10.  Valid bases are 0 and 2-36.\n",
      " |  Base 0 means to interpret the base from the string as an integer literal.\n",
      " |  >>> int('0b100', base=0)\n",
      " |  4\n",
      " |  \n",
      " |  Methods defined here:\n",
      " |  \n",
      " |  __abs__(self, /)\n",
      " |      abs(self)\n",
      " |  \n",
      " |  __add__(self, value, /)\n",
      " |      Return self+value.\n",
      " |  \n",
      " |  __and__(self, value, /)\n",
      " |      Return self&value.\n",
      " |  \n",
      " |  __bool__(self, /)\n",
      " |      self != 0\n",
      " |  \n",
      " |  __ceil__(...)\n",
      " |      Ceiling of an Integral returns itself.\n",
      " |  \n",
      " |  __divmod__(self, value, /)\n",
      " |      Return divmod(self, value).\n",
      " |  \n",
      " |  __eq__(self, value, /)\n",
      " |      Return self==value.\n",
      " |  \n",
      " |  __float__(self, /)\n",
      " |      float(self)\n",
      " |  \n",
      " |  __floor__(...)\n",
      " |      Flooring an Integral returns itself.\n",
      " |  \n",
      " |  __floordiv__(self, value, /)\n",
      " |      Return self//value.\n",
      " |  \n",
      " |  __format__(self, format_spec, /)\n",
      " |      Default object formatter.\n",
      " |  \n",
      " |  __ge__(self, value, /)\n",
      " |      Return self>=value.\n",
      " |  \n",
      " |  __getattribute__(self, name, /)\n",
      " |      Return getattr(self, name).\n",
      " |  \n",
      " |  __getnewargs__(self, /)\n",
      " |  \n",
      " |  __gt__(self, value, /)\n",
      " |      Return self>value.\n",
      " |  \n",
      " |  __hash__(self, /)\n",
      " |      Return hash(self).\n",
      " |  \n",
      " |  __index__(self, /)\n",
      " |      Return self converted to an integer, if self is suitable for use as an index into a list.\n",
      " |  \n",
      " |  __int__(self, /)\n",
      " |      int(self)\n",
      " |  \n",
      " |  __invert__(self, /)\n",
      " |      ~self\n",
      " |  \n",
      " |  __le__(self, value, /)\n",
      " |      Return self<=value.\n",
      " |  \n",
      " |  __lshift__(self, value, /)\n",
      " |      Return self<<value.\n",
      " |  \n",
      " |  __lt__(self, value, /)\n",
      " |      Return self<value.\n",
      " |  \n",
      " |  __mod__(self, value, /)\n",
      " |      Return self%value.\n",
      " |  \n",
      " |  __mul__(self, value, /)\n",
      " |      Return self*value.\n",
      " |  \n",
      " |  __ne__(self, value, /)\n",
      " |      Return self!=value.\n",
      " |  \n",
      " |  __neg__(self, /)\n",
      " |      -self\n",
      " |  \n",
      " |  __or__(self, value, /)\n",
      " |      Return self|value.\n",
      " |  \n",
      " |  __pos__(self, /)\n",
      " |      +self\n",
      " |  \n",
      " |  __pow__(self, value, mod=None, /)\n",
      " |      Return pow(self, value, mod).\n",
      " |  \n",
      " |  __radd__(self, value, /)\n",
      " |      Return value+self.\n",
      " |  \n",
      " |  __rand__(self, value, /)\n",
      " |      Return value&self.\n",
      " |  \n",
      " |  __rdivmod__(self, value, /)\n",
      " |      Return divmod(value, self).\n",
      " |  \n",
      " |  __repr__(self, /)\n",
      " |      Return repr(self).\n",
      " |  \n",
      " |  __rfloordiv__(self, value, /)\n",
      " |      Return value//self.\n",
      " |  \n",
      " |  __rlshift__(self, value, /)\n",
      " |      Return value<<self.\n",
      " |  \n",
      " |  __rmod__(self, value, /)\n",
      " |      Return value%self.\n",
      " |  \n",
      " |  __rmul__(self, value, /)\n",
      " |      Return value*self.\n",
      " |  \n",
      " |  __ror__(self, value, /)\n",
      " |      Return value|self.\n",
      " |  \n",
      " |  __round__(...)\n",
      " |      Rounding an Integral returns itself.\n",
      " |      Rounding with an ndigits argument also returns an integer.\n",
      " |  \n",
      " |  __rpow__(self, value, mod=None, /)\n",
      " |      Return pow(value, self, mod).\n",
      " |  \n",
      " |  __rrshift__(self, value, /)\n",
      " |      Return value>>self.\n",
      " |  \n",
      " |  __rshift__(self, value, /)\n",
      " |      Return self>>value.\n",
      " |  \n",
      " |  __rsub__(self, value, /)\n",
      " |      Return value-self.\n",
      " |  \n",
      " |  __rtruediv__(self, value, /)\n",
      " |      Return value/self.\n",
      " |  \n",
      " |  __rxor__(self, value, /)\n",
      " |      Return value^self.\n",
      " |  \n",
      " |  __sizeof__(self, /)\n",
      " |      Returns size in memory, in bytes.\n",
      " |  \n",
      " |  __str__(self, /)\n",
      " |      Return str(self).\n",
      " |  \n",
      " |  __sub__(self, value, /)\n",
      " |      Return self-value.\n",
      " |  \n",
      " |  __truediv__(self, value, /)\n",
      " |      Return self/value.\n",
      " |  \n",
      " |  __trunc__(...)\n",
      " |      Truncating an Integral returns itself.\n",
      " |  \n",
      " |  __xor__(self, value, /)\n",
      " |      Return self^value.\n",
      " |  \n",
      " |  bit_length(self, /)\n",
      " |      Number of bits necessary to represent self in binary.\n",
      " |      \n",
      " |      >>> bin(37)\n",
      " |      '0b100101'\n",
      " |      >>> (37).bit_length()\n",
      " |      6\n",
      " |  \n",
      " |  conjugate(...)\n",
      " |      Returns self, the complex conjugate of any int.\n",
      " |  \n",
      " |  to_bytes(self, /, length, byteorder, *, signed=False)\n",
      " |      Return an array of bytes representing an integer.\n",
      " |      \n",
      " |      length\n",
      " |        Length of bytes object to use.  An OverflowError is raised if the\n",
      " |        integer is not representable with the given number of bytes.\n",
      " |      byteorder\n",
      " |        The byte order used to represent the integer.  If byteorder is 'big',\n",
      " |        the most significant byte is at the beginning of the byte array.  If\n",
      " |        byteorder is 'little', the most significant byte is at the end of the\n",
      " |        byte array.  To request the native byte order of the host system, use\n",
      " |        `sys.byteorder' as the byte order value.\n",
      " |      signed\n",
      " |        Determines whether two's complement is used to represent the integer.\n",
      " |        If signed is False and a negative integer is given, an OverflowError\n",
      " |        is raised.\n",
      " |  \n",
      " |  ----------------------------------------------------------------------\n",
      " |  Class methods defined here:\n",
      " |  \n",
      " |  from_bytes(bytes, byteorder, *, signed=False) from builtins.type\n",
      " |      Return the integer represented by the given array of bytes.\n",
      " |      \n",
      " |      bytes\n",
      " |        Holds the array of bytes to convert.  The argument must either\n",
      " |        support the buffer protocol or be an iterable object producing bytes.\n",
      " |        Bytes and bytearray are examples of built-in objects that support the\n",
      " |        buffer protocol.\n",
      " |      byteorder\n",
      " |        The byte order used to represent the integer.  If byteorder is 'big',\n",
      " |        the most significant byte is at the beginning of the byte array.  If\n",
      " |        byteorder is 'little', the most significant byte is at the end of the\n",
      " |        byte array.  To request the native byte order of the host system, use\n",
      " |        `sys.byteorder' as the byte order value.\n",
      " |      signed\n",
      " |        Indicates whether two's complement is used to represent the integer.\n",
      " |  \n",
      " |  ----------------------------------------------------------------------\n",
      " |  Static methods defined here:\n",
      " |  \n",
      " |  __new__(*args, **kwargs) from builtins.type\n",
      " |      Create and return a new object.  See help(type) for accurate signature.\n",
      " |  \n",
      " |  ----------------------------------------------------------------------\n",
      " |  Data descriptors defined here:\n",
      " |  \n",
      " |  denominator\n",
      " |      the denominator of a rational number in lowest terms\n",
      " |  \n",
      " |  imag\n",
      " |      the imaginary part of a complex number\n",
      " |  \n",
      " |  numerator\n",
      " |      the numerator of a rational number in lowest terms\n",
      " |  \n",
      " |  real\n",
      " |      the real part of a complex number\n",
      "\n"
     ]
    }
   ],
   "source": [
    "spam_amount = 0\n",
    "print(spam_amount)\n",
    "\n",
    "spam_amount = spam_amount + 8\n",
    "if spam_amount > 0:\n",
    "    print(\"But I don't want ANY spam!\")\n",
    "\n",
    "viking_song = \"Spam \" * spam_amount\n",
    "print(viking_song)\n",
    "\n",
    "help(print) # hepl(obj) инструкции"
   ]
  },
  {
   "cell_type": "markdown",
   "metadata": {},
   "source": [
    "# Арифметика\n",
    "Оператор|Описание\n",
    "---|---\n",
    "a + b|Сложение\n",
    "a - b|Вычетание\n",
    "a * b|Умножение\n",
    "a / b|Деление\n",
    "a // b|Целочисленное деление\n",
    "a % b|Целочисленный остаток от деления\n",
    "a ** b|Возведение в степень (извлечение корня, при числах от 0 до 1)\n",
    "-a|Отрицание\n",
    "=|Присваивание\n",
    "+=, -=, \\*=, /=|Присваивание с математической операцией\n",
    "\n",
    "Математический функции: min, max, abs(модуль числа), round(округление числа)"
   ]
  },
  {
   "cell_type": "code",
   "execution_count": 46,
   "metadata": {
    "collapsed": true
   },
   "outputs": [
    {
     "data": {
      "text/plain": [
       "1"
      ]
     },
     "execution_count": 46,
     "metadata": {},
     "output_type": "execute_result"
    }
   ],
   "source": [
    "a = 15\n",
    "b = 7\n",
    "a % b"
   ]
  },
  {
   "cell_type": "markdown",
   "metadata": {},
   "source": [
    "# Булева арифметика\n",
    "\n",
    "Да или Нет. True or False\n",
    "\n",
    "Оператор|Описание\n",
    "---|---\n",
    "==, !=, <, >, <=, >=|Оператор сравнения\n",
    "and|Логическое И\n",
    "or|Логическое ИЛИ\n",
    "not|Логическое НЕ"
   ]
  },
  {
   "cell_type": "code",
   "execution_count": 54,
   "metadata": {
    "collapsed": true
   },
   "outputs": [
    {
     "name": "stdout",
     "output_type": "stream",
     "text": [
      "не равно\n",
      "равно\n",
      "не равно\n"
     ]
    }
   ],
   "source": [
    "if a == b:\n",
    "    print(\"равно\")\n",
    "else:\n",
    "    print(\"не равно\")\n",
    "if a == b or a != b:\n",
    "    print(\"равно\")\n",
    "else:\n",
    "    print(\"не равно\")\n",
    "if a == b and a != b or a != b and a == b:\n",
    "    print(\"равно\")\n",
    "else:\n",
    "    print(\"не равно\")"
   ]
  },
  {
   "cell_type": "markdown",
   "metadata": {},
   "source": [
    "# Оператор условия и выбора\n",
    "    if else - оператор выбора или ветвление. if по-английски значит \"если\", а else - \"иначе\". Стоит заметить, что elif - это сокращенный else if"
   ]
  },
  {
   "cell_type": "code",
   "execution_count": 14,
   "metadata": {
    "collapsed": true
   },
   "outputs": [
    {
     "name": "stdout",
     "output_type": "stream",
     "text": [
      "1\n"
     ]
    }
   ],
   "source": [
    "if a < 0:\n",
    "    s = -1\n",
    "elif a == 0:\n",
    "    s = 0\n",
    "else:\n",
    "    s = 1\n",
    "print (s)"
   ]
  },
  {
   "cell_type": "markdown",
   "metadata": {},
   "source": [
    "# Циклы\n",
    "С помощью цикла можно описать повторяющиеся действия. В Python имеются два вида циклов: **цикл ПОКА (while)** (выполняется некоторое условие) и **цикл ДЛЯ (for)** (всех значений последовательности).\n",
    "> В Python не существует цикла с постусловием do ... while\n",
    "\n",
    "### Рассмотрим цикл while"
   ]
  },
  {
   "cell_type": "code",
   "execution_count": 91,
   "metadata": {
    "collapsed": true
   },
   "outputs": [
    {
     "name": "stdout",
     "output_type": "stream",
     "text": [
      "abcdefghijklmnop\n"
     ]
    }
   ],
   "source": [
    "s = \"abcdefghijklmnop\"\n",
    "while s != \"\":\n",
    "    print(s)\n",
    "    s = s[1:-1]\n",
    "    break # прерывание"
   ]
  },
  {
   "cell_type": "markdown",
   "metadata": {},
   "source": [
    "### Рассмотрим цикл for"
   ]
  },
  {
   "cell_type": "code",
   "execution_count": 69,
   "metadata": {
    "collapsed": true
   },
   "outputs": [
    {
     "name": "stdout",
     "output_type": "stream",
     "text": [
      "i =  1 j =  1\n",
      "Альтернативный вариант: i = 1, j = 1\n",
      "i =  1 j =  2\n",
      "Альтернативный вариант: i = 1, j = 2\n",
      "i =  1 j =  3\n",
      "Альтернативный вариант: i = 1, j = 3\n",
      "i =  1 j =  4\n",
      "Альтернативный вариант: i = 1, j = 4\n",
      "i =  1 j =  5\n",
      "Альтернативный вариант: i = 1, j = 5\n",
      "i =  1 j =  6\n",
      "Альтернативный вариант: i = 1, j = 6\n",
      "i =  1 j =  7\n",
      "Альтернативный вариант: i = 1, j = 7\n",
      "i =  1 j =  8\n",
      "Альтернативный вариант: i = 1, j = 8\n",
      "i =  1 j =  9\n",
      "Альтернативный вариант: i = 1, j = 9\n",
      "i =  2 j =  1\n",
      "Альтернативный вариант: i = 2, j = 1\n",
      "i =  2 j =  2\n",
      "Альтернативный вариант: i = 2, j = 2\n",
      "i =  2 j =  3\n",
      "Альтернативный вариант: i = 2, j = 3\n",
      "i =  2 j =  4\n",
      "Альтернативный вариант: i = 2, j = 4\n",
      "i =  2 j =  5\n",
      "Альтернативный вариант: i = 2, j = 5\n",
      "i =  2 j =  6\n",
      "Альтернативный вариант: i = 2, j = 6\n",
      "i =  2 j =  7\n",
      "Альтернативный вариант: i = 2, j = 7\n",
      "i =  2 j =  8\n",
      "Альтернативный вариант: i = 2, j = 8\n",
      "i =  2 j =  9\n",
      "Альтернативный вариант: i = 2, j = 9\n",
      "i =  3 j =  1\n",
      "Альтернативный вариант: i = 3, j = 1\n",
      "i =  3 j =  2\n",
      "Альтернативный вариант: i = 3, j = 2\n",
      "i =  3 j =  3\n",
      "Альтернативный вариант: i = 3, j = 3\n",
      "i =  3 j =  4\n",
      "Альтернативный вариант: i = 3, j = 4\n",
      "i =  3 j =  5\n",
      "Альтернативный вариант: i = 3, j = 5\n",
      "i =  3 j =  6\n",
      "Альтернативный вариант: i = 3, j = 6\n",
      "i =  3 j =  7\n",
      "Альтернативный вариант: i = 3, j = 7\n",
      "i =  3 j =  8\n",
      "Альтернативный вариант: i = 3, j = 8\n",
      "i =  3 j =  9\n",
      "Альтернативный вариант: i = 3, j = 9\n",
      "i =  4 j =  1\n",
      "Альтернативный вариант: i = 4, j = 1\n",
      "i =  4 j =  2\n",
      "Альтернативный вариант: i = 4, j = 2\n",
      "i =  4 j =  3\n",
      "Альтернативный вариант: i = 4, j = 3\n",
      "i =  4 j =  4\n",
      "Альтернативный вариант: i = 4, j = 4\n",
      "i =  4 j =  5\n",
      "Альтернативный вариант: i = 4, j = 5\n",
      "i =  4 j =  6\n",
      "Альтернативный вариант: i = 4, j = 6\n",
      "i =  4 j =  7\n",
      "Альтернативный вариант: i = 4, j = 7\n",
      "i =  4 j =  8\n",
      "Альтернативный вариант: i = 4, j = 8\n",
      "i =  4 j =  9\n",
      "Альтернативный вариант: i = 4, j = 9\n",
      "i =  5 j =  1\n",
      "Альтернативный вариант: i = 5, j = 1\n",
      "i =  5 j =  2\n",
      "Альтернативный вариант: i = 5, j = 2\n",
      "i =  5 j =  3\n",
      "Альтернативный вариант: i = 5, j = 3\n",
      "i =  5 j =  4\n",
      "Альтернативный вариант: i = 5, j = 4\n",
      "i =  5 j =  5\n",
      "Альтернативный вариант: i = 5, j = 5\n",
      "i =  5 j =  6\n",
      "Альтернативный вариант: i = 5, j = 6\n",
      "i =  5 j =  7\n",
      "Альтернативный вариант: i = 5, j = 7\n",
      "i =  5 j =  8\n",
      "Альтернативный вариант: i = 5, j = 8\n",
      "i =  5 j =  9\n",
      "Альтернативный вариант: i = 5, j = 9\n",
      "i =  6 j =  1\n",
      "Альтернативный вариант: i = 6, j = 1\n",
      "i =  6 j =  2\n",
      "Альтернативный вариант: i = 6, j = 2\n",
      "i =  6 j =  3\n",
      "Альтернативный вариант: i = 6, j = 3\n",
      "i =  6 j =  4\n",
      "Альтернативный вариант: i = 6, j = 4\n",
      "i =  6 j =  5\n",
      "Альтернативный вариант: i = 6, j = 5\n",
      "i =  6 j =  6\n",
      "Альтернативный вариант: i = 6, j = 6\n",
      "i =  6 j =  7\n",
      "Альтернативный вариант: i = 6, j = 7\n",
      "i =  6 j =  8\n",
      "Альтернативный вариант: i = 6, j = 8\n",
      "i =  6 j =  9\n",
      "Альтернативный вариант: i = 6, j = 9\n",
      "i =  7 j =  1\n",
      "Альтернативный вариант: i = 7, j = 1\n",
      "i =  7 j =  2\n",
      "Альтернативный вариант: i = 7, j = 2\n",
      "i =  7 j =  3\n",
      "Альтернативный вариант: i = 7, j = 3\n",
      "i =  7 j =  4\n",
      "Альтернативный вариант: i = 7, j = 4\n",
      "i =  7 j =  5\n",
      "Альтернативный вариант: i = 7, j = 5\n",
      "i =  7 j =  6\n",
      "Альтернативный вариант: i = 7, j = 6\n",
      "i =  7 j =  7\n",
      "Альтернативный вариант: i = 7, j = 7\n",
      "i =  7 j =  8\n",
      "Альтернативный вариант: i = 7, j = 8\n",
      "i =  7 j =  9\n",
      "Альтернативный вариант: i = 7, j = 9\n",
      "i =  8 j =  1\n",
      "Альтернативный вариант: i = 8, j = 1\n",
      "i =  8 j =  2\n",
      "Альтернативный вариант: i = 8, j = 2\n",
      "i =  8 j =  3\n",
      "Альтернативный вариант: i = 8, j = 3\n",
      "i =  8 j =  4\n",
      "Альтернативный вариант: i = 8, j = 4\n",
      "i =  8 j =  5\n",
      "Альтернативный вариант: i = 8, j = 5\n",
      "i =  8 j =  6\n",
      "Альтернативный вариант: i = 8, j = 6\n",
      "i =  8 j =  7\n",
      "Альтернативный вариант: i = 8, j = 7\n",
      "i =  8 j =  8\n",
      "Альтернативный вариант: i = 8, j = 8\n",
      "i =  8 j =  9\n",
      "Альтернативный вариант: i = 8, j = 9\n",
      "i =  9 j =  1\n",
      "Альтернативный вариант: i = 9, j = 1\n",
      "i =  9 j =  2\n",
      "Альтернативный вариант: i = 9, j = 2\n",
      "i =  9 j =  3\n",
      "Альтернативный вариант: i = 9, j = 3\n",
      "i =  9 j =  4\n",
      "Альтернативный вариант: i = 9, j = 4\n",
      "i =  9 j =  5\n",
      "Альтернативный вариант: i = 9, j = 5\n",
      "i =  9 j =  6\n",
      "Альтернативный вариант: i = 9, j = 6\n",
      "i =  9 j =  7\n",
      "Альтернативный вариант: i = 9, j = 7\n",
      "i =  9 j =  8\n",
      "Альтернативный вариант: i = 9, j = 8\n",
      "i =  9 j =  9\n",
      "Альтернативный вариант: i = 9, j = 9\n"
     ]
    }
   ],
   "source": [
    "for i in range(1, 10):\n",
    "    for j in range(1, 10):\n",
    "        print (\"i = \", i, \"j = \", j)\n",
    "        print (\"Альтернативный вариант: i = %i, j = %i\" % (i,j))"
   ]
  },
  {
   "cell_type": "markdown",
   "metadata": {},
   "source": [
    "# Функции\n",
    "Программист может определять собственные функции двумя способами: с помощью оператора def или прямо в выражении, посредством lambda. Второй способ (да и вообще работа с функциями) будет рассмотрен подробнее в лекции по функциональному программированию на Python, а здесь следует привести пример определения и вызова функции:"
   ]
  },
  {
   "cell_type": "code",
   "execution_count": 66,
   "metadata": {
    "collapsed": true
   },
   "outputs": [
    {
     "name": "stdout",
     "output_type": "stream",
     "text": [
      "8 руб. 50 коп.\n",
      "7 руб. 0 коп.\n",
      "23 руб. 70 коп.\n"
     ]
    }
   ],
   "source": [
    "def price(rub, kop=0):\n",
    "    return \"%i руб. %i коп.\" % (rub, kop)\n",
    "\n",
    "print(price(8, 50))\n",
    "print(price(7))\n",
    "print(price(rub=23, kop=70))"
   ]
  },
  {
   "cell_type": "markdown",
   "metadata": {},
   "source": [
    "# Исключения\n",
    "В современных программах передача управления происходит не всегда так гладко, как в описанных выше конструкциях. Для обработки особых ситуаций (таких как деление на ноль или попытка чтения из несуществующего файла) применяется механизм исключений. Лучше всего пояснить синтаксис оператора try-except следующим примером:"
   ]
  },
  {
   "cell_type": "code",
   "execution_count": 71,
   "metadata": {
    "collapsed": true
   },
   "outputs": [
    {
     "name": "stdout",
     "output_type": "stream",
     "text": [
      "Ошибка ввода-вывода\n"
     ]
    }
   ],
   "source": [
    "try:\n",
    "    res = int(open('a.txt').read()) / int(open('c.txt').read())\n",
    "    print(res)\n",
    "except IOError:\n",
    "    print(\"Ошибка ввода-вывода\")\n",
    "except ZeroDivisionError:\n",
    "    print(\"Деление на 0\")\n",
    "except KeyboardInterrupt:\n",
    "    print(\"Прерывание с клавиатуры\")\n",
    "except:\n",
    "    print(\"Ошибка\")"
   ]
  },
  {
   "cell_type": "markdown",
   "metadata": {},
   "source": [
    "Исключения можно возбуждать и из программы. Для этого служит оператор raise. Заодно следующий пример показывает канонический способ определения собственного исключения:"
   ]
  },
  {
   "cell_type": "code",
   "execution_count": 86,
   "metadata": {
    "collapsed": true
   },
   "outputs": [
    {
     "name": "stdout",
     "output_type": "stream",
     "text": [
      "Моя ошибка\n"
     ]
    }
   ],
   "source": [
    "try:\n",
    "    raise Exception(\"Моя ошибка\")\n",
    "except Exception as inst:\n",
    "    print(inst)"
   ]
  },
  {
   "cell_type": "markdown",
   "metadata": {},
   "source": [
    "Кроме описанной формы оператора, есть еще форма try-finally для гарантированного выполнения некоторых действий при передаче управления изнутри оператора try-finally вовне. Он может применяться для освобождения занятых ресурсов, что требует обязательного выполнения, независимо от произошедших внутри катаклизмов:"
   ]
  },
  {
   "cell_type": "code",
   "execution_count": 88,
   "metadata": {
    "collapsed": true
   },
   "outputs": [
    {
     "name": "stdout",
     "output_type": "stream",
     "text": [
      "Моя ошибка\n",
      "Обработка гарантированно завершена\n"
     ]
    }
   ],
   "source": [
    "try:\n",
    "    raise Exception(\"Моя ошибка\")\n",
    "except Exception as inst:\n",
    "    print(inst)\n",
    "finally:\n",
    "    print(\"Обработка гарантированно завершена\")"
   ]
  },
  {
   "cell_type": "markdown",
   "metadata": {},
   "source": [
    "# Встроенные типы данных\n",
    "Все данные в Python представлены объектами. Имена являются лишь ссылками на эти объекты и не несут нагрузки по декларации типа. Значения встроенных типов имеют специальную поддержку в синтаксисе языка: можно записать литерал строки, числа, списка, кортежа, словаря (и их разновидностей). Синтаксическую же поддержку операций над встроенными типами можно легко сделать доступной и для объектов определяемых пользователями классов.\n",
    "\n",
    "> Следует также отметить, что объекты могут быть неизменчивыми и изменчивыми. Например, строки в Python являются неизменчивыми, поэтому операции над строками создают новые строки.\n",
    "\n",
    "Карта встроенных типов (с именами функций для приведения к нужному типу и именами классов для наследования от этих типов):\n",
    "- специальные типы: None, NotImplemented и Ellipsis ;\n",
    "- числа;\n",
    "  - целые\n",
    "    - обычное целое int\n",
    "    - целое произвольной точности long\n",
    "    - логический bool\n",
    "  - число с плавающей точкой float\n",
    "    - комплексное число complex\n",
    "- последовательности;\n",
    "  - неизменчивые:\n",
    "    - строка str ;\n",
    "    - Unicode-строка unicode ;\n",
    "    - кортеж tuple ;\n",
    "  - изменчивые:\n",
    "    - список list ;\n",
    "- отображения:\n",
    "  - словарь dict\n",
    "- объекты, которые можно вызвать:\n",
    "  - функции (пользовательские и встроенные);\n",
    "  - функции-генераторы;\n",
    "  - методы (пользовательские и встроенные);\n",
    "  - классы (новые и \"классические\");\n",
    "  - экземпляры классов (если имеют метод __call__ );\n",
    "- модули;\n",
    "- классы (см. выше);\n",
    "- экземпляры классов (см. выше);\n",
    "- файлы file ;\n",
    "- вспомогательные типы buffer, slice.\n",
    "\n",
    "Узнать тип любого объекта можно с помощью встроенной функции type()\n",
    "\n",
    "## Тип int и long\n",
    "Два типа: int (целые числа) и long (целые произвольной точности) служат моделью для представления целых чисел. Первый соответствует типу long в компиляторе C для используемой архитектуры. Числовые литералы можно записать в системах счисления с основанием 8, 10 или 16. Значения типа int должны покрывать диапазон от -2147483648 до 2147483647, а точность целых произвольной точности зависит от объема доступной памяти.\n",
    "> Стоит заметить, что если в результате операции получается значение, выходящее за рамки допустимого, тип int может быть неявно преобразован в long\n",
    "\n",
    "## Тип float\n",
    "Соответствует C-типу double для используемой архитектуры. Записывается вполне традиционным способом либо через точку, либо в нотации с экспонентой:\n",
    "> pi = 3.1415926535897931\n",
    "\n",
    "## Тип complex\n",
    "Литерал мнимой части задается добавлением j в качестве суффикса (перемножаются мнимые единицы):\n",
    "> -1j * -1j\n",
    "\n",
    "> (-1-0j)\n",
    "\n",
    "## Тип bool\n",
    "Подтип целочисленного типа для \"канонического\" обозначения логических величин. Два значения: True (истина) и False (ложь) - вот и все, что принадлежит этому типу. \n",
    "> Следует отметить, что Python даже не вычисляет второй операнд операции and или or, если ее исход ясен по первому операнду. Таким образом, если первый операнд истинен, он и возвращается как результат or, в противном случае возвращается второй операнд. Для операции and все аналогично.\n",
    "\n",
    "## Тип string и тип unicode\n",
    "В Python строки бывают двух типов: обычные и Unicode-строки. Фактически строка - это последовательность символов (в случае обычных строк можно сказать \"последовательность байтов\"). Строки-константы можно задать в программе с помощью строковых литералов. Для литералов наравне используются как апострофы ( ' ), так и обычные двойные кавычки ( \" ). Для многострочных литералов можно использовать утроенные апострофы или утроенные кавычки. Управляющие последовательности внутри строковых литералов задаются обратной косой чертой ( \\ ). Примеры написания строковых литералов:\n",
    "\n",
    "Для строк имеется еще одна разновидность: необработанные строковые литералы. В этих литералах обратная косая черта и следующие за ней символы не интерпретируются как спецсимволы, а вставляются в строку \"как есть\":\n",
    "\n",
    "Обычно такие строки требуются для записи регулярных выражений (о них пойдет речь в лекции, посвященной обработке текстовой информации).\n",
    "\n",
    "Набор операций над строками включает конкатенацию \" + \", повтор \" * \", форматирование \" % \". Также строки имеют большое количество методов, некоторые из которых приведены ниже. Полный набор методов (и их необязательных аргументов) можно получить в документации по Python."
   ]
  },
  {
   "cell_type": "code",
   "execution_count": 96,
   "metadata": {},
   "outputs": [],
   "source": [
    "s1 = \"строка1\"\n",
    "s2 = 'строка2\\nс переводом строки внутри'\n",
    "s3 = \"\"\"строка3\n",
    "с переводом строки внутри\"\"\"\n",
    "u1 = u'\\u043f\\u0440\\u0438\\u0432\\u0435\\u0442'  # привет\n",
    "u2 = u'Еще пример'    # не забудьте про coding!\n",
    "my_re = r\"(\\d)=\\1\""
   ]
  },
  {
   "cell_type": "markdown",
   "metadata": {},
   "source": [
    "## Тип tuple\n",
    "Для представления константной последовательности (разнородных) объектов используется тип кортеж. Литерал кортежа обычно записывается в круглых скобках, но можно, если не возникают неоднозначности, писать и без них. Примеры записи кортежей:"
   ]
  },
  {
   "cell_type": "code",
   "execution_count": 97,
   "metadata": {
    "collapsed": true
   },
   "outputs": [
    {
     "name": "stdout",
     "output_type": "stream",
     "text": [
      "one\n",
      "two\n",
      "three\n"
     ]
    }
   ],
   "source": [
    "p = (1.2, 3.4, 0.9)   # точка в трехмерном пространстве\n",
    "for s in \"one\", \"two\", \"three\":  # цикл по значениям кортежа\n",
    "    print(s)\n",
    "one_item = (1,)\n",
    "empty = ()\n",
    "p1 = 1, 3, 9   # без скобок\n",
    "p2 = 3, 8, 5,  # запятая в конце игнорируется"
   ]
  },
  {
   "cell_type": "markdown",
   "metadata": {},
   "source": [
    "## Тип list\n",
    "В \"чистом\" Python нет массивов с произвольным типом элемента. Вместо них используются списки. Их можно задать с помощью литералов, записываемых в квадратных скобках, или посредством списковых включений. Варианты задания списка приведены ниже:\n",
    "\n",
    "> lst1 = [1, 2, 3,]\n",
    "\n",
    "> lst2 = [x**2 for x in range(10) if x % 2 == 1]\n",
    "\n",
    "> lst3 = list(\"abcde\")\n",
    "\n",
    "Для работы со списками существует несколько методов, дополнительных к тем, что имеют неизменчивые последовательности. Все они связаны с изменением списка."
   ]
  },
  {
   "cell_type": "markdown",
   "metadata": {},
   "source": [
    "## Последовательности\n",
    "Ниже обобщены основные методы последовательностей. Следует напомнить, что последовательности бывают неизменчивыми и изменчивыми. У последних методов чуть больше.\n",
    "\n",
    "Синтаксис|Семантика\n",
    "---|---\n",
    "len(s)|Длина последовательности s\n",
    "x in s|Проверка принадлежности элемента последовательности. В новых версиях Python можно проверять принадлежность подстроки строке. Возвращает True или False\n",
    "x not in s|= not x in s\n",
    "s + s1|Конкатенация последовательностей\n",
    "s*n или n*s|Последовательность из n раз повторенной s. Если n < 0, возвращается пустая последовательность.\n",
    "s[i]|Возвращает i-й элемент s или len(s)+i-й, если i < 0\n",
    "s[i:j:d]|Срез из последовательности s от i до j с шагом d будет рассматриваться ниже\n",
    "min(s)|Наименьший элемент s\n",
    "max(s)|Наибольший элемент s\n",
    "\n",
    "Дополнительные конструкции для изменчивых последовательностей:\n",
    "\n",
    "Синтаксис|Семантика\n",
    "---|---\n",
    "s[i] = x|i -й элемент списка s заменяется на x\n",
    "s[i:j:d] = t|Срез от i до j (с шагом d ) заменяется на (список) t\n",
    "del s[i:j:d]|Удаление элементов среза из последовательности\n",
    "\n",
    "Некоторые методы для работы с последовательностями\n",
    "В таблице приведен ряд методов изменчивых последовательностей (например, списков).\n",
    "\n",
    "Метод|Описание\n",
    "---|---\n",
    ".append(x)|Добавляет элемент в конец последовательности\n",
    ".count(x)|Считает количество элементов, равных x\n",
    ".extend(s)|Добавляет к концу последовательности последовательность s\n",
    ".index(x)|Возвращает наименьшее i, такое, что s[i] == x. Возбуждает исключение ValueError, если x не найден в s\n",
    ".insert(i, x)|Вставляет элемент x в i -й промежуток\n",
    ".pop(i)|Возвращает i -й элемент, удаляя его из последовательности\n",
    ".reverse(s)|Меняет порядок элементов s на обратный\n",
    ".sort([cmpfunc])|Сортирует элементы s. Может быть указана своя функция сравнения cmpfunc\n",
    "\n",
    "### Взятие элемента по индексу и срезы\n",
    "Здесь же следует сказать несколько слов об индексировании последовательностей и выделении подстрок (и вообще - подпоследовательностей) по индексам. Для получения отдельного элемента последовательности используются квадратные скобки, в которых стоит выражение, дающее индекс. Индексы последовательностей в Python начинаются с нуля. Отрицательные индексы служат для отсчета элементов с конца последовательности ( -1 - последний элемент). Пример проясняет дело:"
   ]
  },
  {
   "cell_type": "code",
   "execution_count": 111,
   "metadata": {
    "collapsed": true
   },
   "outputs": [
    {
     "name": "stdout",
     "output_type": "stream",
     "text": [
      "0 4 3\n",
      "[0, 1, -2, 3, 4]\n",
      "[0, 1, 3, 4]\n"
     ]
    }
   ],
   "source": [
    "s = [0, 1, 2, 3, 4]\n",
    "print(s[0], s[-1], s[3])\n",
    "s[2] = -2\n",
    "print(s)\n",
    "del s[2]\n",
    "print(s)"
   ]
  },
  {
   "cell_type": "markdown",
   "metadata": {},
   "source": [
    ">Примечание:\n",
    "Удалять элементы можно только из изменчивых последовательностей и желательно не делать этого внутри цикла по последовательности.\n",
    "\n",
    "Несколько интереснее обстоят дела со срезами. Дело в том, что в Python при взятии среза последовательности принято нумеровать не элементы, а промежутки между ними. Поначалу это кажется необычным, тем не менее, очень удобно для указания произвольных срезов. Перед нулевым (по индексу) элементом последовательности промежуток имеет номер 0, после него - 1 и т.д.. Отрицательные значения отсчитывают промежутки с конца строки. Для записи срезов используется следующий синтаксис:\n",
    "\n",
    ">последовательность[нач:кон:шаг]\n",
    "\n",
    "где нач - промежуток начала среза, кон - конца среза, шаг - шаг. По умолчанию нач=0, кон=len(последовательность), шаг=1, если шаг не указан, второе двоеточие можно опустить.\n",
    "\n",
    "А теперь пример работы со срезами:"
   ]
  },
  {
   "cell_type": "code",
   "execution_count": 113,
   "metadata": {
    "collapsed": true
   },
   "outputs": [
    {
     "name": "stdout",
     "output_type": "stream",
     "text": [
      "[0, 1, 2, 3, 4, 5, 6, 7, 8, 9]\n",
      "[0, 1, 2]\n",
      "[9]\n",
      "[0, 3, 6, 9]\n",
      "[-1, -1, -1, 0, 1, 2, 3, 4, 5, 6, 7, 8, 9]\n",
      "[0, 1, 2, 3, 4, 5, 6, 7, 8, 9]\n"
     ]
    }
   ],
   "source": [
    "s = [0, 1, 2, 3, 4, 5, 6, 7, 8, 9]\n",
    "print(s)\n",
    "print(s[0:3])\n",
    "print(s[-1:])\n",
    "print(s[::3])\n",
    "s[0:0] = [-1, -1, -1]\n",
    "print(s)\n",
    "del s[:3]\n",
    "print(s)"
   ]
  },
  {
   "cell_type": "markdown",
   "metadata": {},
   "source": [
    "## Тип dict\n",
    "Словарь (хэш, ассоциативный массив) - это изменчивая структура данных для хранения пар ключ-значение, где значение однозначно определяется ключом. В качестве ключа может выступать неизменчивый тип данных (число, строка, кортеж и т.п.). Порядок пар ключ-значение произволен. Ниже приведен литерал для словаря и пример работы со словарем:"
   ]
  },
  {
   "cell_type": "code",
   "execution_count": 116,
   "metadata": {
    "collapsed": true
   },
   "outputs": [
    {
     "name": "stdout",
     "output_type": "stream",
     "text": [
      "one\n",
      "{0: 0}\n",
      "{}\n",
      "{1: 'one', 2: 'two', 3: 'three', 4: 'four'}\n",
      "1 one\n",
      "2 two\n",
      "3 three\n",
      "4 four\n",
      "1 one\n",
      "2 two\n",
      "3 three\n",
      "4 four\n",
      "one\n",
      "two\n",
      "three\n",
      "four\n",
      "5\n"
     ]
    }
   ],
   "source": [
    "d = {1: 'one', 2: 'two', 3: 'three', 4: 'four'}\n",
    "d0 = {0: 'zero'}\n",
    "print(d[1])        # берется значение по ключу\n",
    "d0[0] = 0          # присваивается значение по ключу\n",
    "print(d0)\n",
    "del d0[0]          # удаляется пара ключ-значение с данным ключом\n",
    "print(d0)\n",
    "print(d)\n",
    "for key, val in d.items():   # цикл по всему словарю\n",
    "    print(key, val)\n",
    "for key in d.keys():   # цикл по ключам словаря\n",
    "    print(key, d[key])\n",
    "for val in d.values():   # цикл по значениям словаря\n",
    "    print(val)\n",
    "d0[0] = 0\n",
    "d.update(d0)  # пополняется словарь из другого\n",
    "print(len(d))  # количество пар в словаре"
   ]
  },
  {
   "cell_type": "markdown",
   "metadata": {},
   "source": [
    "## Тип file\n",
    "Объекты этого типа предназначены для работы с внешними данными. В простом случае - это файл на диске. Файловые объекты должны поддерживать основные методы: read(), write(), readline(), readlines(), seek(), tell(), close() и т.п.\n",
    "\n",
    "Следующий пример показывает копирование файла:"
   ]
  },
  {
   "cell_type": "code",
   "execution_count": 117,
   "metadata": {
    "collapsed": true
   },
   "outputs": [
    {
     "ename": "FileNotFoundError",
     "evalue": "[Errno 2] No such file or directory: 'file1.txt'",
     "output_type": "error",
     "traceback": [
      "\u001b[1;31m---------------------------------------------------------------------------\u001b[0m",
      "\u001b[1;31mFileNotFoundError\u001b[0m                         Traceback (most recent call last)",
      "\u001b[1;32m<ipython-input-117-c2b5d7973187>\u001b[0m in \u001b[0;36m<module>\u001b[1;34m()\u001b[0m\n\u001b[1;32m----> 1\u001b[1;33m \u001b[0mf1\u001b[0m \u001b[1;33m=\u001b[0m \u001b[0mopen\u001b[0m\u001b[1;33m(\u001b[0m\u001b[1;34m\"file1.txt\"\u001b[0m\u001b[1;33m,\u001b[0m \u001b[1;34m\"r\"\u001b[0m\u001b[1;33m)\u001b[0m\u001b[1;33m\u001b[0m\u001b[0m\n\u001b[0m\u001b[0;32m      2\u001b[0m \u001b[0mf2\u001b[0m \u001b[1;33m=\u001b[0m \u001b[0mopen\u001b[0m\u001b[1;33m(\u001b[0m\u001b[1;34m\"file2.txt\"\u001b[0m\u001b[1;33m,\u001b[0m \u001b[1;34m\"w\"\u001b[0m\u001b[1;33m)\u001b[0m\u001b[1;33m\u001b[0m\u001b[0m\n\u001b[0;32m      3\u001b[0m \u001b[1;32mfor\u001b[0m \u001b[0mline\u001b[0m \u001b[1;32min\u001b[0m \u001b[0mf1\u001b[0m\u001b[1;33m.\u001b[0m\u001b[0mreadlines\u001b[0m\u001b[1;33m(\u001b[0m\u001b[1;33m)\u001b[0m\u001b[1;33m:\u001b[0m\u001b[1;33m\u001b[0m\u001b[0m\n\u001b[0;32m      4\u001b[0m     \u001b[0mf2\u001b[0m\u001b[1;33m.\u001b[0m\u001b[0mwrite\u001b[0m\u001b[1;33m(\u001b[0m\u001b[0mline\u001b[0m\u001b[1;33m)\u001b[0m\u001b[1;33m\u001b[0m\u001b[0m\n\u001b[0;32m      5\u001b[0m \u001b[0mf2\u001b[0m\u001b[1;33m.\u001b[0m\u001b[0mclose\u001b[0m\u001b[1;33m(\u001b[0m\u001b[1;33m)\u001b[0m\u001b[1;33m\u001b[0m\u001b[0m\n",
      "\u001b[1;31mFileNotFoundError\u001b[0m: [Errno 2] No such file or directory: 'file1.txt'"
     ]
    }
   ],
   "source": [
    "f1 = open(\"file1.txt\", \"r\")\n",
    "f2 = open(\"file2.txt\", \"w\")\n",
    "for line in f1.readlines():\n",
    "    f2.write(line)\n",
    "f2.close()\n",
    "f1.close()"
   ]
  },
  {
   "cell_type": "markdown",
   "metadata": {},
   "source": [
    "> Стоит заметить, что кроме собственно файлов в Python используются и файлоподобные объекты. В очень многих функциях просто неважно, передан ли ей объект типа file или другого типа, если он имеет все те же методы (и в том же смысле). Например, копирование содержимого по ссылке (URL) в файл file2.txt можно достигнуть, если заменить первую строку на"
   ]
  },
  {
   "cell_type": "code",
   "execution_count": 127,
   "metadata": {
    "collapsed": true
   },
   "outputs": [
    {
     "name": "stdout",
     "output_type": "stream",
     "text": [
      "<_io.TextIOWrapper name='file2.txt' mode='w' encoding='cp1251'>\n"
     ]
    }
   ],
   "source": [
    "import urllib\n",
    "f1 = urllib.request.urlopen(\"http://python.onego.ru\")\n",
    "f2 = open(\"file2.txt\", \"w\")\n",
    "for line in f1.readlines():\n",
    "    f2.write(str(line))\n",
    "print(f2)\n",
    "f2.close()"
   ]
  },
  {
   "cell_type": "markdown",
   "metadata": {},
   "source": [
    "## Выражения\n",
    "В современных языках программирования принято производить большую часть обработки данных в выражениях. Синтаксис выражений у многих языков программирования примерно одинаков. Синтаксис выражений Python не удивит программиста чем-то новым. (Разве что цепочечные сравнения могут приятно порадовать.)\n",
    "\n",
    "Приоритет операций показан в нижеследующей таблице (в порядке увеличения). Для унарных операций x обозначает операнд. Ассоциативность операций в Python - слева-направо, за исключением операции возведения в степень ( ** ), которая ассоциативна справа налево.\n",
    "\n",
    "Операция|Название\n",
    "---|---\n",
    "lambda|лямбда-выражение\n",
    "or|логическое ИЛИ\n",
    "and|логическое И\n",
    "not x|логическое НЕ\n",
    "in, not in|проверка принадлежности\n",
    "is, is not|проверка идентичности\n",
    "<,<=,>,>=,!=,==|сравнения\n",
    "||побитовое ИЛИ\n",
    "^|побитовое исключающее ИЛИ\n",
    "&|побитовое И\n",
    "<<, >>|побитовые сдвиги\n",
    "+, -|сложение и вычитание\n",
    "\\*, /, %|умножение, деление, остаток\n",
    "+x, -x|унарный плюс и смена знака\n",
    "~x|побитовое НЕ\n",
    "\\*\\*|возведение в степень\n",
    "x.атрибут|ссылка на атрибут\n",
    "x[индекс]|взятие элемента по индексу\n",
    "x[от:до]|выделение среза (от и до)\n",
    "f(аргумент,...)|вызов функции\n",
    "( ... )|скобки или кортеж\n",
    "[ ... ]|список или списковое включение\n",
    "{кл:зн, ...}|словарь пар ключ-значение\n",
    "`выражения`|преобразование к строке (repr)\n",
    "\n",
    "Таким образом, порядок вычислений операндов определяется такими правилами:\n",
    "\n",
    "1. Операнд слева вычисляется раньше операнда справа во всех бинарных операциях, кроме возведения в степень.\n",
    "2. Цепочка сравнений вида a < b < c ... y < z фактически равносильна: (а < b) and (b < c) and ... and (y < z).\n",
    "3. Перед фактическим выполнением операции вычисляются нужные для нее операнды. В большинстве бинарных операций предварительно вычисляются оба операнда (сначала левый), но операции or и and, а также цепочки сравнений вычисляют такое количество операндов, которое достаточно для получения результата. В невычисленной части выражения в таком случае могут даже быть неопределенные имена. Это важно учитывать, если используются функции с побочными эффектами.\n",
    "4. Аргументы функций, выражения для списков, кортежей, словарей и т.п. вычисляются слева-направо, в порядке следования в выражении.\n",
    "\n",
    "В случае неясности приоритетов желательно применять скобки. Несмотря на то, что одни и те же символы могут использоваться для разных операций, приоритеты операций не меняются. Так, % имеет тот же приоритет, что и *, а потому в следующем примере скобки просто необходимы, чтобы операция умножения произошла перед операцией форматирования:\n",
    "\n",
    "> print \"%i\" % (i*j)\n",
    "\n",
    "Выражения могут фигурировать во многих операторах Python и даже как самостоятельный оператор. У выражения всегда есть результат, хотя в некоторых случаях (когда выражение вычисляется ради побочных эффектов) этот результат может быть \"ничем\" - None.\n",
    "\n",
    "Очень часто выражения стоят в правой части оператора присваивания или расширенного присваивания. В Python (в отличие, скажем, от C) нет операции присваивания, поэтому синтаксически перед знаком = могут стоять только идентификатор, индекс, срез, доступ к атрибуту или кортеж (список) из перечисленного. (Подробности в документации)."
   ]
  },
  {
   "cell_type": "markdown",
   "metadata": {},
   "source": [
    "## Имена\n",
    "Имя может начинаться с латинской буквы (любого регистра) или подчеркивания, а дальше допустимо использование цифр. В качестве идентификаторов нельзя применять ключевые слова языка и нежелательно переопределять встроенные имена. Список ключевых слов можно узнать так:"
   ]
  },
  {
   "cell_type": "code",
   "execution_count": 128,
   "metadata": {
    "collapsed": true
   },
   "outputs": [
    {
     "data": {
      "text/plain": [
       "['False',\n",
       " 'None',\n",
       " 'True',\n",
       " 'and',\n",
       " 'as',\n",
       " 'assert',\n",
       " 'async',\n",
       " 'await',\n",
       " 'break',\n",
       " 'class',\n",
       " 'continue',\n",
       " 'def',\n",
       " 'del',\n",
       " 'elif',\n",
       " 'else',\n",
       " 'except',\n",
       " 'finally',\n",
       " 'for',\n",
       " 'from',\n",
       " 'global',\n",
       " 'if',\n",
       " 'import',\n",
       " 'in',\n",
       " 'is',\n",
       " 'lambda',\n",
       " 'nonlocal',\n",
       " 'not',\n",
       " 'or',\n",
       " 'pass',\n",
       " 'raise',\n",
       " 'return',\n",
       " 'try',\n",
       " 'while',\n",
       " 'with',\n",
       " 'yield']"
      ]
     },
     "execution_count": 128,
     "metadata": {},
     "output_type": "execute_result"
    }
   ],
   "source": [
    "import keyword\n",
    "keyword.kwlist"
   ]
  },
  {
   "cell_type": "markdown",
   "metadata": {},
   "source": [
    "Имена, начинающиеся с подчеркивания или двух подчеркиваний, имеют особый смысл. Одиночное подчеркивание говорит программисту о том, что имя имеет местное применение, и не должно использоваться за пределами модуля. Двойным подчеркиванием в начале и в конце обычно наделяются специальные имена атрибутов - об этом будет говориться в лекции по объектно-ориентированному программированию.\n",
    "\n",
    "В каждой точке программы интерпретатор \"видит\" три пространства имен: локальное, глобальное и встроенное. Пространство имен - отображение из имен в объекты.\n",
    "\n",
    "Для понимания того, как Python находит значение некоторой переменной, необходимо ввести понятие блока кода. В Python блоком кода является то, что исполняется как единое целое, например, тело определения функции, класса или модуля.\n",
    "\n",
    "Локальные имена - имена, которым присвоено значение в данном блоке кода. Глобальные имена - имена, определяемые на уровне блока кода определения модуля или те, которые явно заданы в операторе global. Встроенные имена - имена из специального словаря __ builtins __.\n",
    "\n",
    "Области видимости имен могут быть вложенными друг в друга, например, внутри вызванной функции видны имена, определенные в вызывающем коде. Переменные, которые используются в блоке кода, но связаны со значением вне кода, называются свободными переменными.\n",
    "\n",
    "Так как переменную можно связать с объектом в любом месте блока, важно, чтобы это произошло до ее использования, иначе будет возбуждено исключение NameError. Связывание имен со значениями происходит в операторах присваивания, from, import, в формальных аргументах функций, при определении функции или класса, во втором параметре части except оператора try-except.\n",
    "\n",
    "С областями видимости и связыванием имен есть много нюансов, которые хорошо описаны в документации. Желательно, чтобы программы не зависели от таких нюансов, а для этого достаточно придерживаться следующих правил:\n",
    "\n",
    "Всегда следует связывать переменную со значением (текстуально) до ее использования.\n",
    "Необходимо избегать глобальных переменных и передавать все в качестве параметров. Глобальными на уровне модуля должны остаться только имена-константы, имена классов и функций.\n",
    "Никогда не следует использовать from модуль import * - это может привести к затенению имен из других модулей, а внутри определения функции просто запрещено.\n",
    "Предпочтительнее переделать код, нежели использовать глобальную переменную. Конечно, для программ, состоящих из одного модуля, это не так важно: ведь все определенные на уровне модуля переменные глобальны.\n",
    "\n",
    "Убрать связь имени с объектом можно с помощью оператора del. В этом случае, если объект не имеет других ссылок на него, он будет удален. Для управления памятью в Python используется подсчет ссылок (reference counting), для удаления наборов объектов с зацикленными ссылками - сборка мусора (garbage collection)."
   ]
  },
  {
   "cell_type": "markdown",
   "metadata": {},
   "source": [
    "## Стиль программирования\n",
    "Стиль программирования - дополнительные ограничения, накладываемые на структуру и вид программного кода группой совместно работающих программистов с целью получения удобных для применения, легко читаемых и эффективных программ. Основные ограничения на вид программы дает синтаксис языка программирования, и его нарушения вызывают синтаксические ошибки. Нарушение стиля не приводит к синтаксическим ошибкам, однако как отдельные программисты, так и целые коллективы сознательно ограничивают себя в средствах выражения ради упрощения совместной разработки, отладки и сопровождения программного продукта.\n",
    "\n",
    "Стиль программирования затрагивает практически все аспекты написания кода:\n",
    "\n",
    "- именование объектов в зависимости от типа, назначения, области видимости;\n",
    "- оформление функций, методов, классов, модулей и их документирование в коде программы;\n",
    "- декомпозиция программы на модули с определенными характеристиками;\n",
    "- способ включения отладочной информации;\n",
    "- применение тех или иных функций (методов) в зависимости от предполагаемого уровня совместимости разрабатываемой программы с различными компьютерными платформами;\n",
    "- ограничение используемых функций из соображений безопасности.\n",
    "\n",
    "Для языка Python Гвидо ван Россум разработал официальный стиль. С оригинальным текстом \"Python Style Guide\" можно ознакомиться по адресу http://www.python.org/doc/essays/styleguide.\n",
    "\n",
    "Наиболее существенные положения этого стиля перечислены ниже. В случае сомнений хорошим образцом стиля являются модули стандартной библиотеки.\n",
    "\n",
    "- Рекомендуется использовать отступы в 4 пробела.\n",
    "- Длина физической строки не должна превышать 79 символов.\n",
    "- Длинные логические строки лучше разбивать неявно (внутри скобок), но и явные методы вполне уместны. Отступы строк продолжения рекомендуется выравнивать по скобкам или по первому операнду в предыдущей строке. Текстовый редактор Emacs в режиме python-mode и некоторые интегрированные оболочки (IDE) автоматически делают необходимые отступы в Python-программах:\n",
    ">def draw(figure, color=\"White\", border_color=\"Black\",\n",
    "         size=5):\n",
    "    if color == border_color or \\\n",
    "       size == 0:\n",
    "        raise \"Bad figure\"\n",
    "    else:\n",
    "        _draw(size, size, (color,\n",
    "                           border_color))\n",
    "                           \n",
    "- Не рекомендуется ставить пробелы сразу после открывающей скобки или перед закрывающей, перед запятой, точкой с запятой, перед открывающей скобкой при записи вызова функции или индексного выражения. Также не рекомендуется ставить более одного пробела вокруг знака равенства в присваиваниях. Пробелы вокруг знака равенства не ставятся в случае, когда он применяется для указания значения по умолчанию в определении параметров функции или при задании именованных аргументов.\n",
    "- Также рекомендуется применение одиночных пробелов вокруг низкоприоритетных операций сравнения и оператора присваивания. Пробелы вокруг более приоритетных операций ставятся в равном количестве слева и справа от знака операции.\n",
    "\n",
    "Несколько рекомендаций касаются написания комментариев.\n",
    "\n",
    "- Комментарии должны точно отражать актуальное состояние кода. (Поддержание актуальных комментариев должно быть приоритетной задачей!) После коротких комментариев можно не ставить точку, тогда как длинные лучше писать по правилам написания текста. Автор Python обращается к неанглоязычным программистам с просьбой писать комментарии на английском, если есть хотя бы небольшая вероятность того, что код будут читать специалисты, говорящие на других языках.\n",
    "- Комментарии к фрагменту кода следует писать с тем же отступом, что и комментируемый код. После \" # \" должен идти одиночный пробел. Абзацы можно отделять строкой с \" # \" на том же уровне. Блочный комментарий можно отделить пустыми строками от окружающего кода.\n",
    "- Комментарии, относящиеся к конкретной строке, не следует использовать часто. Символ \" # \" должен отстоять от комментируемого оператора как минимум на два пробела.\n",
    "- Хороший комментарий не перефразирует программу, а содержит дополнительную информацию о действии программы в терминах предметной области.\n",
    "Все модули, классы, функции и методы, предназначенные для использования за пределами модуля, должны иметь строки документации, описывающие способ их применения, входные и выходные параметры.\n",
    "- Строка документации для отдельной программы должна объяснять используемые ею ключи, назначение аргументов и переменных среды и другую подобную информацию.\n",
    "- Для строк документации рекомендуется везде использовать утроенные кавычки ( \"\"\" ).\n",
    "- Однострочная документация пишется в императиве, как команда: \"делай это\", \"возвращай то\".\n",
    "- Многострочная документация содержит расширенное описание модуля, функции, класса. Она будет смотреться лучше, если текст будет написан с тем же отступом, что и начало строки документации.\n",
    "- Документация для модуля должна перечислять экспортируемые функции, классы, исключения и другие объекты, по одной строке на объект.\n",
    "- Строка документации для функции или метода должна кратко описывать действия функции, ее входные параметры и возвращаемое значение, побочные эффекты и возможные исключения (если таковые есть). Должны быть обозначены необязательные аргументы и аргументы, не являющиеся частью интерфейса.\n",
    "- Документация для класса должна перечислять общедоступные методы и атрибуты, содержать рекомендации по применению класса в качестве базового для других классов. Если класс является подклассом, необходимо указать, какие методы полностью заменяют, перегружают, а какие используют, но расширяют соответствующие методы надкласса. Необходимо указать и другие изменения по сравнению с надклассом.\n",
    "- Контроль версий повышает качество процесса создания программного обеспечения. Для этих целей часто используются RCS или CVS. \"Python Style Guide\" рекомендует записывать $Revision: 1.31 $ в переменную с именем __version__, а другие данные заключать в комментарии \" # \".\n",
    "Сегодня сосуществуют несколько более или менее широко распространенных правил именования объектов. Программисты вольны выбрать тот, который принят в их организации или конкретном проекте. Автор Python рекомендует придерживаться нижеследующих правил для именования различных объектов, с тем чтобы это было понятно любому программисту, использующему Python.\n",
    "- Имена модулей лучше давать строчными буквами, например, shelve, string, либо делать первые буквы слов заглавными, StringIO, UserDict. Имена написанных на C модулей расширения обычно начинаются с подчеркивания \" _ \", а соответствующие им высокоуровневые обертки - с прописных букв: _tkinter и Tkinter.\n",
    "- Ключевые слова нельзя использовать в качестве имен, однако, если все-таки необходимо воспользоваться этим именем, стоит добавить одиночное подчеркивание в конце имени. Например: class_.\n",
    "- Классы обычно называют, выделяя первые буквы слов прописными, как в Tag или HTTPServer.\n",
    "- Имена исключений обычно содержат в своем составе слово \"error\" (или \"warning\"). Встроенные модули пишут это слово со строчной буквы (как os.error ) (но могут писать и с прописной): distutils.DistutilsModuleError.\n",
    "- Функции, экспортируемые модулем, могут именоваться по-разному. Можно давать с прописных букв имена наиболее важных функций, а вспомогательные писать строчными.\n",
    "- Имена глобальных переменных (если таковые используются) лучше начинать с подчеркивания, чтобы они не импортировались из модуля оператором from-import со звездочкой.\n",
    "- Имена методов записываются по тем же правилам, что и имена функций.\n",
    "- Имена констант (имен, которые не должны переопределяться) лучше записывать прописными буквами, например: RED, GREEN, BLUE.\n",
    "- При работе с языком Python необходимо учитывать, что интерпретатор считает некоторые классы имен специальными (обычно такие имена начинаются с подчеркивания).\n",
    "\n",
    "## Заключение\n",
    "В этой лекции синтаксис языка показан на примерах, что в случае с Python оправдано, так как эта часть языка достаточно проста. Были рассмотрены основные операторы языка, выражения и многие из встроенных типов данных, кратко объяснены принципы работы Python с именами, приведены правила официального стиля программирования на Python."
   ]
  },
  {
   "cell_type": "code",
   "execution_count": null,
   "metadata": {},
   "outputs": [],
   "source": []
  }
 ],
 "metadata": {
  "celltoolbar": "Raw Cell Format",
  "kernelspec": {
   "display_name": "Python 3",
   "language": "python",
   "name": "python3"
  },
  "language_info": {
   "codemirror_mode": {
    "name": "ipython",
    "version": 3
   },
   "file_extension": ".py",
   "mimetype": "text/x-python",
   "name": "python",
   "nbconvert_exporter": "python",
   "pygments_lexer": "ipython3",
   "version": "3.7.0"
  }
 },
 "nbformat": 4,
 "nbformat_minor": 2
}
